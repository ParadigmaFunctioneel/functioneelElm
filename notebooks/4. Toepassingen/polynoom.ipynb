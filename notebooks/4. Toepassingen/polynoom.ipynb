{
 "cells": [
  {
   "attachments": {
    "elmex2.1.png": {
     "image/png": "[encoded data removed]"
    }
   },
   "cell_type": "markdown",
   "metadata": {},
   "source": [
    "<h2>Wat gaan we maken?</h2>\n",
    "\n",
    "<p>We gaan een programma maken dat een grafiek van een polynoom op het scherm afdrukt. Als je niet weet wat een polynoom is lees dan de uitleg op:</p>\n",
    "\n",
    "<a href=\"https://nl.wikipedia.org/wiki/Polynoom\">https://nl.wikipedia.org/wiki/Polynoom</a>\n",
    "\n",
    "<p>Start het elm programma <a href=\"http://goloca.org:443/examples/powfuncpointsdraw.elm\">powfuncpointsdraw.elm</a>. Je ziet het volgende:</p>\n",
    "\n",
    "![elmex2.1.png](attachment:elmex2.1.png)\n",
    "\n",
    "<p>In het vakje links onder kun je de a, b en c invullen voor functies van de vorm:</p>\n",
    "\n",
    "<p>y = ax<sup>2</sup> + bx + c</p>\n",
    "\n",
    "<p>Vul in het vakje links onder&nbsp; 5 in en druk op Enter.</p>\n",
    "\n",
    "<p>Je ziet nu de grafiek voor de functie y=5 voor -100 =&lt; x =&lt; 100.</p>\n",
    "\n",
    "\n",
    "<p>Vul in het vakje links onder&nbsp; 1,0 in en druk op Enter.</p>\n",
    "\n",
    "<p>Je zie nu de grafiek voor de functie y=x voor -100 =&lt; x =&lt; 100.</p>\n",
    "\n",
    "\n",
    "<p>Vul in het vakje links&nbsp; onder 1,2 in en druk op Enter.</p>\n",
    "\n",
    "<p>Je zie nu de grafiek voor de functie y=x+2 voor -100 =&lt; x =&lt; 100.</p>\n",
    "\n",
    "<p>Vul in het vakje links&nbsp; onder 1,0,0 in en druk op Enter.</p>\n",
    "\n",
    "<p>Je zie nu de grafiek voor de functie y=x<sup>2</sup> voor -100 =&lt; x =&lt; 100.</p>\n",
    "\n",
    "<p>Vul in het vakje links&nbsp; onder 1,0,-4 in en druk op Enter.</p>\n",
    "\n",
    "<p>Je zie nu de grafiek voor de functie y=x<sup>2</sup>-4 voor -100 =&lt; x =&lt; 100.</p>\n",
    "\n",
    "<p>Vul in het vakje links&nbsp; onder 1,2,-4 in en druk op Enter.</p>\n",
    "\n",
    "<p>Je zie nu de grafiek voor de functie y=x<sup>2</sup>+2x-4 voor -100 =&lt; x =&lt; 100.</p>\n",
    "\n",
    "<p>Vul&nbsp; nog wat andere waardes in voor a, b en c in en kijk wat er gebeurt.&nbsp; Als je een half wilt invullen moet dat met 0.5 en een tiende met 0.1.</p>\n",
    "\n",
    "<p>Vul vier getallen in en kijk wat er gebeurt.</p>\n",
    "\n",
    "<h2>Hoe gaan we het programma maken?</h2>\n",
    "<p>We gaan het vorige programma in Elm programmeren. Dit doen we met de volgende stappen.</p>\n",
    "\n",
    "<ol>\n",
    "\t<li>Maak een recursieve functie <a href=\"mypow.ipynb\">pow</a> die een macht berekent</li>\n",
    "\t<li>Maak een recursieve functie <a href=\"mypowfunc.ipynb\">powfunc</a> die de waarde van&nbsp; y berekent voor de waarde van x.</li>\n",
    "\t<li>Maak een recursieve functie <a href=\"powfuncpoints.ipynb\">powfuncpoints</a> die de waarden van y berekend met powfunc voor -10 &lt;= x &lt;= 10</li>\n",
    "\t<li>Gebruik het resultaat van <a href=\"powfuncpointsdraw.ipynb\">powfuncpoints</a> om een grafiek te tekenen voor -100 &lt;= x &lt;= 100</li>\n",
    "</ol>\n",
    "\n"
   ]
  }
 ],
 "metadata": {
  "kernelspec": {
   "display_name": "Elm",
   "language": "text",
   "name": "elm"
  },
  "language_info": {
   "codemirror_mode": "elm",
   "file_extension": ".elm",
   "mimetype": "text/x-elm",
   "name": "elm"
  }
 },
 "nbformat": 4,
 "nbformat_minor": 2
}
