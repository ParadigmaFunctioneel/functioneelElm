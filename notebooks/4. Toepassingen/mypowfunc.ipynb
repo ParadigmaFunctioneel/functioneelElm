{
 "cells": [
  {
   "attachments": {
    "elmex2.3.png": {
     "image/png": "[encoded data removed]"
    }
   },
   "cell_type": "markdown",
   "metadata": {},
   "source": [
    "<p>Je gaat een recursieve functie <strong>powfunc</strong> maken voor functies van de vorm y = ax<sup>2</sup> + bx + c. Deze functie <strong>powfunc</strong> heeft als invoer een waarde voor x en een lijst met de waarden voor a, b en c. In deze lijst zijn a, b en c opgeslagen als Floats. De functie <strong>powfunc </strong>heeft als uitkomst een getal dat de waarde van y weergeeft.</p>\n",
    "\n",
    "<p>Start het elm programma <a href=\"http://www.goloca.org:443/examples/powfunc.elm\">powfunc.elm</a>. De test in dit programma werkt met een vaste waarde voor x die 2 is. Vul in het vakje 2,3 in. Dit staat voor y=2x+3. Als x dus 2 is, komt hier 7 uit. Vul nog wat meer waarden voor a,b en c in en check de uitkomst.</p>\n",
    "\n",
    "<p>Start het elm programma <strong>mypowfunc.elm</strong> in de volgende cell. Elm geeft als foutmelding dat de functie <strong>powfunc</strong> ontbreekt. Dat klopt want dat is nu juist de functie die jij zelf moet schrijven.</p>\n",
    "\n",
    "<p>Voeg de functie <strong>powfunc</strong> toe volgens de volgende omschijving. Powfunc heeft als invoer een getal x en een lijst van Floats l. Daarvan is x de waarde van x en bevat l de waarden van a, b en c voor een functie van de vorm y = ax<sup>2</sup> + bx + c. Powfunc geeft als resultaat de uitkomst terug van y voor de functie y = ax<sup>2</sup> + bx + c waarbij x, a, b en c zijn ingevuld.</p>\n",
    "\n",
    "<p>Gebruik daarbij recursie volgens dit schema:</p>\n",
    "\n",
    "![elmex2.3.png](attachment:elmex2.3.png)"
   ]
  },
  {
   "cell_type": "code",
   "execution_count": 1,
   "metadata": {},
   "outputs": [
    {
     "data": {
      "text/html": [
       "<pre>-- MISSING DEFINITION ------------------------------- /tmp/tmpi1ghyxnh/input.elm\n",
       "\n",
       "There is a type annotation for `powfunc` but there is no corresponding\n",
       "definition!\n",
       "\n",
       "70| powfunc : Float -> List Float -> Float  \n",
       "    ^^^^^^^^^^^^^^^^^^^^^^^^^^^^^^^^^^^^^^\n",
       "Directly below the type annotation, put a definition like:\n",
       "\n",
       "    powfunc = 42\n",
       "\n",
       "Detected errors in 1 module.\n",
       "</pre>"
      ]
     },
     "metadata": {},
     "output_type": "display_data"
    }
   ],
   "source": [
    "import Html exposing (text, div, input, Attribute)\n",
    "import Html exposing (beginnerProgram)\n",
    "import Html.Events exposing (on, keyCode, onInput)\n",
    "import Json.Decode as Json\n",
    "import String exposing(..)\n",
    "import List exposing(..)\n",
    "import Maybe exposing(..)\n",
    "\n",
    "checkedStringToFloat : String -> Float\n",
    "checkedStringToFloat s =\n",
    "    Result.withDefault 0 (String.toFloat s)\n",
    "\n",
    "listStringToListFloat : List String -> List Float\n",
    "listStringToListFloat ls =\n",
    "    List.map checkedStringToFloat ls\n",
    "\n",
    "pow : Float -> Float -> Float\n",
    "pow g m = \n",
    "    case m of \n",
    "       0 -> 1\n",
    "       _ -> g * (pow g (m-1))\n",
    "\n",
    "powfuncTest : String -> String\n",
    "powfuncTest s =\n",
    "  toString (powfunc 2 (listStringToListFloat (split \",\" s)))\n",
    "\n",
    "main =\n",
    "  beginnerProgram \n",
    "  { model = \n",
    "    { inputData = \"\"\n",
    "    , outputData = \"\"\n",
    "    }\n",
    "  , view = view\n",
    "  , update = update\n",
    "  }\n",
    "\n",
    "\n",
    "view model =\n",
    "  div [] \n",
    "  [ input [onKeyDown KeyDown, onInput Input] []\n",
    "  , div [] [ text (\"Result: \" ++ model.outputData) ]\n",
    "  ]\n",
    "\n",
    "onKeyDown : (Int -> msg) -> Html.Attribute msg\n",
    "onKeyDown tagger =\n",
    "  on \"keydown\" (Json.map tagger keyCode)\n",
    "\n",
    "type Msg \n",
    "  = NoOp\n",
    "  | KeyDown Int\n",
    "  | Input String\n",
    "\n",
    "\n",
    "update msg model =\n",
    "  case msg of\n",
    "\n",
    "    NoOp ->\n",
    "      model\n",
    "\n",
    "    KeyDown key ->\n",
    "      if key == 13 then\n",
    "        { model | outputData = powfuncTest model.inputData }\n",
    "      else\n",
    "        model\n",
    "\n",
    "    Input text ->\n",
    "      { model | inputData = text }\n",
    "      \n",
    "-- insert your code here\n",
    "powfunc : Float -> List Float -> Float  \n",
    "-- compile-code"
   ]
  },
  {
   "cell_type": "code",
   "execution_count": null,
   "metadata": {},
   "outputs": [],
   "source": []
  }
 ],
 "metadata": {
  "kernelspec": {
   "display_name": "Elm",
   "language": "text",
   "name": "elm"
  },
  "language_info": {
   "codemirror_mode": "elm",
   "file_extension": ".elm",
   "mimetype": "text/x-elm",
   "name": "elm"
  }
 },
 "nbformat": 4,
 "nbformat_minor": 2
}
