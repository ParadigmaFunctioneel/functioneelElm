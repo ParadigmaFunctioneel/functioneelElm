{
 "cells": [
  {
   "attachments": {
    "elmex2.2.png": {
     "image/png": "[encoded data removed]"
    }
   },
   "cell_type": "markdown",
   "metadata": {},
   "source": [
    "<p>Je gaat een recursie functie <strong>pow</strong> maken.&nbsp; Deze functie <strong>pow</strong> heeft als invoer twee getallen g en m en geeft als uitvoer g<sup>m</sup>.&nbsp; Je gebruikt de functie <strong>pow</strong> later om functies te bereken van de vorm y = ax<sup>2</sup> + bx + c. Daarom is de functie <strong>pow</strong> goed genoeg als je voor m alleen gehele positieve getallen mag gebruiken. De functie pow heeft als uitkomst een getal dat g<sup>m</sup> weergeeft.</p>\n",
    "\n",
    "<p>Start het elm programma <a href=\"http://goloca.org:443/examples/pow.elm\">pow.elm</a>. Vul in het vakje 2,3 in en druk op Enter. Je vraagt nu om 2<sup>3</sup> te berekenen en het resultaat is 8. Vul nog wat meer waarden voor g en m in en check de uitkomst.</p>\n",
    "\n",
    "<p>Run het elm programma <strong>mypow.elm</strong> in de volgende cell. Elm geeft als foutmelding dat de functie <strong>pow</strong> ontbreekt. Dat klopt want dat is nu juist de functie die jij zelf moet schrijven.</p>\n",
    "\n",
    "<p>Voeg de functie <strong>pow</strong> toe na <i>--insert your code here</i> volgens de volgende omschijving. Pow heeft als invoer twee getallen g en m. Daarvan is g het grondtal en m de macht. Pow geeft als resultaat g<sup>m</sup> terug.</p>\n",
    "\n",
    "<p>Gebruik daarbij recursie volgens dit schema:</p>\n",
    "\n",
    "![elmex2.2.png](attachment:elmex2.2.png)"
   ]
  },
  {
   "cell_type": "code",
   "execution_count": 3,
   "metadata": {
    "scrolled": true
   },
   "outputs": [
    {
     "data": {
      "text/html": [
       "<pre>-- MISSING DEFINITION ------------------------------- /tmp/tmpsl8z_cev/input.elm\n",
       "\n",
       "There is a type annotation for `pow` but there is no corresponding definition!\n",
       "\n",
       "70| pow : Float -> Float -> Float\n",
       "    ^^^^^^^^^^^^^^^^^^^^^^^^^^^^^\n",
       "Directly below the type annotation, put a definition like:\n",
       "\n",
       "    pow = 42\n",
       "\n",
       "Detected errors in 1 module.\n",
       "</pre>"
      ]
     },
     "metadata": {},
     "output_type": "display_data"
    }
   ],
   "source": [
    "import Html exposing (text, div, input, Attribute)\n",
    "import Html exposing (beginnerProgram)\n",
    "import Html.Events exposing (on, keyCode, onInput)\n",
    "import Json.Decode as Json\n",
    "import String exposing(..)\n",
    "import List exposing(..)\n",
    "import Maybe exposing(..)\n",
    "\n",
    "checkedStringToFloat : String -> Float\n",
    "checkedStringToFloat s =\n",
    "    Result.withDefault 0 (String.toFloat s)\n",
    "\n",
    "listStringToListFloat : List String -> List Float\n",
    "listStringToListFloat ls =\n",
    "    List.map checkedStringToFloat ls\n",
    "\n",
    "powTest : String -> String\n",
    "powTest s =\n",
    "  let \n",
    "    lf = listStringToListFloat (split \",\" s)\n",
    "    g = \n",
    "      withDefault 0 (head lf)\n",
    "    m = \n",
    "      withDefault 0 (head (withDefault [] (tail lf)))\n",
    "  in\n",
    "    toString (pow g m)\n",
    "    \n",
    "main =\n",
    "  beginnerProgram \n",
    "  { model = \n",
    "    { outputData = \"\"\n",
    "    , inputData = \"\"\n",
    "    }\n",
    "  , view = view\n",
    "  , update = update\n",
    "  }\n",
    "\n",
    "\n",
    "view model =\n",
    "  div [] \n",
    "  [ input [onKeyDown KeyDown, onInput Input] []\n",
    "  , div [] [ text (\"Result: \" ++ model.outputData) ]\n",
    "  ]\n",
    "\n",
    "onKeyDown : (Int -> msg) -> Html.Attribute msg\n",
    "onKeyDown tagger =\n",
    "  on \"keydown\" (Json.map tagger keyCode)\n",
    "  \n",
    "type Msg \n",
    "  = NoOp\n",
    "  | KeyDown Int\n",
    "  | Input String\n",
    "\n",
    "update msg model =\n",
    "  case msg of\n",
    "\n",
    "    NoOp ->\n",
    "      model\n",
    "\n",
    "    KeyDown key ->\n",
    "      if key == 13 then\n",
    "        { model | outputData = powTest model.inputData }\n",
    "      else\n",
    "        model\n",
    "\n",
    "    Input text ->\n",
    "      { model | inputData = text }\n",
    "\n",
    "-- insert your code here\n",
    "pow : Float -> Int -> Float\n",
    "-- compile-code"
   ]
  },
  {
   "cell_type": "markdown",
   "metadata": {},
   "source": [
    "<div id=\"spot\"></div>"
   ]
  }
 ],
 "metadata": {
  "kernelspec": {
   "display_name": "Elm",
   "language": "text",
   "name": "elm"
  },
  "language_info": {
   "codemirror_mode": "elm",
   "file_extension": ".elm",
   "mimetype": "text/x-elm",
   "name": "elm"
  }
 },
 "nbformat": 4,
 "nbformat_minor": 2
}
