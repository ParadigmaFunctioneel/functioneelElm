{
 "cells": [
  {
   "cell_type": "markdown",
   "metadata": {},
   "source": [
    "<h2>Introductie</h2>\n",
    "<p>Als afsluiting van de module programmeerparadigma’s met Elm gaan we drie Toepassingen programmeren die te maken hebben met wat jullie bij wiskunde geleerd hebben.</p>\n",
    "<h3>Deze toepassingen zijn:</h3>\n",
    "<ul>\n",
    "    <li><a href=\"polynoom.ipynb\">Een programma om grafiek van een polynoom af te drukken</a></li>\n",
    "    <li><a href=\"boxplot.ipynb\">Een programma om een boxplot af te drukken</a></li>\n",
    "    <li><a href=\"ijskristallen.ipynb\">Een programma om ijskristallen te tekenen</a></li>    \n",
    "</ul>\n",
    "<p>Als afsluiting kun je ook een aantal Algemene Uitwerkingen van Examens uit Examenblad maken</p>\n",
    "<h3>Deze examens zijn:</h3>\n",
    "<ul>\n",
    "    <li><a href=\"havo2018 natuurkunde.ipynb\">Havo2018 Natuurkunde</a></li>    \n",
    "</ul>"
   ]
  }
 ],
 "metadata": {
  "kernelspec": {
   "display_name": "Elm",
   "language": "text",
   "name": "elm"
  },
  "language_info": {
   "codemirror_mode": "elm",
   "file_extension": ".elm",
   "mimetype": "text/x-elm",
   "name": "elm"
  }
 },
 "nbformat": 4,
 "nbformat_minor": 2
}
