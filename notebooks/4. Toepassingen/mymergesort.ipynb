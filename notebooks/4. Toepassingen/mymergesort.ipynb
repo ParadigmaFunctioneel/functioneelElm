{
 "cells": [
  {
   "cell_type": "markdown",
   "metadata": {},
   "source": [
    "<p>Je gaat een recursie functie <strong>mergesort</strong> maken.&nbsp; Deze functie <strong>mergesort</strong> heeft als invoer een lijst en als uitvoer een gesorteerde lijst. Je gebruikt de functie <strong>mergesort</strong> later om de gegevens voor een boxplot te bepalen. Start het elm programma <a href=\"http://goloca.org:443/examples/mergesort.elm\">mergesort.elm</a>. Vul in het vakje links boven het volgende in:</p>\n",
    "\n",
    "<p>7,3,8,6,8,5,4,5,3,6,2,6,9,1,2,7,5,8,7,6</p>\n",
    "\n",
    "<p>Als uitkomst zie je nu een gesorteerde lijst.</p>\n",
    "\n",
    "<p>Run het elm programma <strong>mymergesort.elm</strong> in de volgende cell. Elm geeft als foutmelding dat de functie <strong>mergesort</strong> ontbreekt. Dat klopt want dat is nu juist de functie die je zelf moet schrijven.</p>\n",
    "\n",
    "<p>Voeg de functie <strong>mergesort</strong> toe aan <strong>mymergesort.elm</strong>. Op de site elm-lang.org vind je bij Examples een voorbeeld van een mergesort functie.</p>\n",
    "\n",
    "<p>Je moet deze als volgt aanpassen:</p>\n",
    "\n",
    "<ul>\n",
    "\t<li>Verander de naam van de functie split in divide</li>\n",
    "</ul>\n",
    "\n",
    "<p>Bekijk ook de functies <strong>checkedStringToFloat</strong> en <strong>listStringToListFloat</strong>.</p>\n",
    "\n",
    "<p>De functie <strong>checkedStringToFloat </strong>heeft als input een String en geeft als output een Float terug.&nbsp; Als&nbsp; de String niet omgezet kan worden geeft de functie 0 terug.</p>\n",
    "\n",
    "<p>De functie <strong>listStringToListFloat </strong>heeft als input een List van Strings en geeft als output een List van Floats terug. Daarbij maakt de functie gebruik van de standaard elm functie map. Deze functie past een functie die als parameter meegegeven wordt toe op alle elementen in een als parameter meegegeven List. In dit geval is dit de functie <strong>checkedStringToFloat</strong>.</p>\n"
   ]
  },
  {
   "cell_type": "code",
   "execution_count": 1,
   "metadata": {},
   "outputs": [
    {
     "data": {
      "text/html": [
       "<pre>-- MISSING DEFINITION ------------------------------- /tmp/tmp8ktnrq3m/input.elm\n",
       "\n",
       "There is a type annotation for `mergesort` but there is no corresponding\n",
       "definition!\n",
       "\n",
       "59| mergesort : List comparable -> List comparable\n",
       "    ^^^^^^^^^^^^^^^^^^^^^^^^^^^^^^^^^^^^^^^^^^^^^^\n",
       "Directly below the type annotation, put a definition like:\n",
       "\n",
       "    mergesort = 42\n",
       "\n",
       "Detected errors in 1 module.\n",
       "</pre>"
      ]
     },
     "metadata": {},
     "output_type": "display_data"
    }
   ],
   "source": [
    "import Html exposing (text, div, input, Attribute)\n",
    "import Html exposing (beginnerProgram)\n",
    "import Html.Events exposing (on, keyCode, onInput)\n",
    "import Json.Decode as Json\n",
    "import String exposing(..)\n",
    "import List exposing(..)\n",
    "import Maybe exposing(..)\n",
    "\n",
    "checkedStringToFloat : String -> Float\n",
    "checkedStringToFloat s =\n",
    "    Result.withDefault 0 (String.toFloat s)\n",
    "\n",
    "listStringToListFloat : List String -> List Float\n",
    "listStringToListFloat ls =\n",
    "    List.map checkedStringToFloat ls\n",
    "\n",
    "main =\n",
    "  beginnerProgram \n",
    "  { model = \n",
    "    { outputData = []\n",
    "    , inputData = \"\"\n",
    "    }\n",
    "  , view = view\n",
    "  , update = update\n",
    "  }\n",
    "\n",
    "view model =\n",
    "  div [] \n",
    "  [ input [onKeyDown KeyDown, onInput Input] []\n",
    "  , div [] [ text (\"Result: \" ++ toString model.outputData) ]\n",
    "  ]\n",
    "  \n",
    "onKeyDown : (Int -> msg) -> Html.Attribute msg\n",
    "onKeyDown tagger =\n",
    "  on \"keydown\" (Json.map tagger keyCode)\n",
    "\n",
    "type Msg \n",
    "  = NoOp\n",
    "  | KeyDown Int\n",
    "  | Input String\n",
    "\n",
    "\n",
    "update msg model =\n",
    "  case msg of\n",
    "\n",
    "    NoOp ->\n",
    "      model\n",
    "\n",
    "    KeyDown key ->\n",
    "      if key == 13 then\n",
    "        { model | outputData = (mergesort (listStringToListFloat(split \",\" model.inputData))) }\n",
    "      else\n",
    "        model\n",
    "\n",
    "    Input text ->\n",
    "      { model | inputData = text }\n",
    "      \n",
    "-- insert your code here\n",
    "mergesort : List comparable -> List comparable\n",
    "\n",
    "-- compile-code"
   ]
  }
 ],
 "metadata": {
  "kernelspec": {
   "display_name": "Elm",
   "language": "text",
   "name": "elm"
  },
  "language_info": {
   "codemirror_mode": "elm",
   "file_extension": ".elm",
   "mimetype": "text/x-elm",
   "name": "elm"
  }
 },
 "nbformat": 4,
 "nbformat_minor": 2
}
