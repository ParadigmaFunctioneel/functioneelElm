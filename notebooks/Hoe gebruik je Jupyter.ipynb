{
 "cells": [
  {
   "cell_type": "markdown",
   "metadata": {},
   "source": [
    "#Hoe gebruik je Jupyter?"
   ]
  },
  {
   "cell_type": "markdown",
   "metadata": {},
   "source": [
    "Dit is een korte uitleg over hoe Jupyter bestanden gebruikt worden binnen dit lesmateriaal. "
   ]
  },
  {
   "cell_type": "markdown",
   "metadata": {},
   "source": [
    "#Waarom gebruiken we Jupyter?"
   ]
  },
  {
   "cell_type": "markdown",
   "metadata": {},
   "source": [
    "Dankzij Jupyter kunnen we stukken voorbeeldcode in de tekst opnemen en kan de lezer/gebruiker die 'uitvoeren' door op 'Run' te klikken. Een voorbeeld: de cel hieronder: er staat een (geldige) expressie in de taal elm (het lijkt inderdaad op een rekensom): "
   ]
  },
  {
   "cell_type": "code",
   "execution_count": null,
   "metadata": {},
   "outputs": [],
   "source": [
    "3 + 3"
   ]
  },
  {
   "cell_type": "markdown",
   "metadata": {},
   "source": [
    "Klik op de cel en klik dna op 'Run': het duurt even voor het antwoord komt, maar direct onder de som komt het antwoord. "
   ]
  },
  {
   "cell_type": "markdown",
   "metadata": {},
   "source": []
  }
 ],
 "metadata": {
  "kernelspec": {
   "display_name": "Elm REPL",
   "language": "elm",
   "name": "elm-repl"
  },
  "language_info": {
   "codemirror_mode": "elm",
   "file_extension": ".elm",
   "mimetype": "text/x-elm",
   "name": "elm"
  }
 },
 "nbformat": 4,
 "nbformat_minor": 2
}
