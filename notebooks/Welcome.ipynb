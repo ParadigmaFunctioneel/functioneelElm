{
 "cells": [
  {
   "cell_type": "markdown",
   "metadata": {},
   "source": [
    "# Welcome\n",
    "Deze Jupyter is opgezet in het kader van de ontwikkeling van lesmateriaal voor het onderwerk Programmeerparadigma.\n",
    "\n",
    "## Werking Jupyter\n",
    "\n",
    "Uitleg over de werking van Jupyter is terug te vinden op: [Hier](examples/Hoe%20gebruik%20je%20Jupyter.ipynb)\n",
    "\n",
    "## Lesmateriaal\n",
    "Het lesmateriaal is terug te vinden in de map **student**. De map bevat een kopie van de map **student** uit **notebooks**, zodat je de bestanden eenvoudig kan invullen, uitvoeren en opslaan. Mocht om wat voor reden een notebook niet meer goed werken, dan kun je deze verwijderen uit je eigen map en vervangen door een kopie uit de map **notebooks/student**.\n",
    "\n",
    "### Opbouw\n",
    "**1. Programmeerparadigama's**\n",
    "1. [Inleiding programmeerparadigma's](student/elm/1.%20Inleiding%20programmeerparadigma's/1.%20Inleiding.ipynb)\n",
    "2. [Paradigma's](student/elm/1.%20Inleiding%20programmeerparadigma's/2.%20Paradigma's.ipynb)\n",
    "3. [Programmeerparadigma's](student/elm/1.%20Inleiding%20programmeerparadigma's/3.%20Programmeerparadigma's.ipynb)\n",
    "1. [Overige paradigma's](student/elm/1.%20Inleiding%20programmeerparadigma's/4.%20Overige%20paradigma's.ipynb)\n",
    "\n",
    "**2. Recursie**\n",
    "1. [Inleiding](student/elm/2.%20Recursie/1.%20Inleiding.ipynb)\n",
    "2. [Voorbeeld](student/elm/2.%20Recursie/2.%20Voorbeelden.ipynb)\n",
    "3. [Oefenopgaven](student/elm/2.%20Recursie/3.%20Oefenopgaven.ipynb)\n",
    "\n",
    "**3. Basis van Elm**\n",
    "1. [Eerste stapjes in Elm](student/elm/3.%20Basis%20van%20elm/1.%20Eerste%20stapjes%20in%20elm/1.elm-basis.ipynb)\n",
    "2. [Functie definitie](student/elm/3.%20Basis%20van%20elm/2.%20Functie%20definitie/2.elm-functie-definitie.ipynb)\n",
    "3. [Introductie in werken met List in Elm](student/elm/3.%20Basis%20van%20elm/3.%20Introductie%20in%20werken%20met%20List%20in%20elm/3.elm-Lists.ipynb)\n",
    "4. [Recursie in Elm](student/elm/3.%20Basis%20van%20elm/4.%20Recursie%20in%20elm/4.%20Recursie%20in%20elm.ipynb)\n",
    "5. [Elm divers...](student/elm/3.%20Basis%20van%20elm/5.%20elm%20divers.../5.elm_diversen.ipynb)\n",
    "\n",
    "**4. Toepassingen**\n",
    "* [Introductie](student/elm/4.%20Toepassingen/polynoom.ipynb)\n",
    "* [Een programma om grafiek van een polynoom af te drukken](student/elm/4.%20Toepassingen/polynoom.ipynb)\n",
    "* [Een programma om een boxplot af te drukken](student/elm/4.%20Toepassingen/boxplot.ipynb)\n",
    "* [Een programma om ijskristallen te tekenen](student/elm/4.%20Toepassingen/ijskristallen.ipynb)\n",
    "* [Eindexamen Havo2018 Natuurkunde](student/elm/4.%20Toepassingen/havo2018%20natuurkunde.ipynb)\n",
    "\n",
    "## Docenten\n",
    "Docenten kunnen toegang krijgen tot een speciale map met uitwerkingen en instructies. Hiervoor dienen zij een e-mail naar admin@frajaweb.nl te sturen. Uit de e-mail moet duidelijk blijken dat de aanvraag is verstuurd vanuit een docent. Deze e-mail moet tenministe de github-gebruikersnaam bevatten."
   ]
  }
 ],
 "metadata": {
  "kernelspec": {
   "display_name": "Elm",
   "language": "",
   "name": "defbu_elm_kernel"
  },
  "language_info": {
   "codemirror_mode": "elm",
   "file_extension": ".elm",
   "mimetype": "text/x-elm",
   "name": "elm"
  }
 },
 "nbformat": 4,
 "nbformat_minor": 2
}
