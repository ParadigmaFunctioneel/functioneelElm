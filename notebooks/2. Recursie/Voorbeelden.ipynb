{
 "cells": [
  {
   "cell_type": "markdown",
   "metadata": {},
   "source": [
    "# Voorbeelden\n",
    "\n",
    "Er zijn veel typische problemen waarbij het gebruik van recursie erg handig kan zijn om tot een oplossing te komen. In dit hoofdstuk worden enkele van deze voorbeelden besproken.\n",
    "\n",
    "\n",
    "## Fibonacci\n",
    "Één van de bekendste problemen waarvoor een eenvoudige recursieve oplossing bestaat, is de berekening van een Fibonacci getal. Fibonacci getallen vormen een rij (ook wel reeks van Fibonacci genoemd) die begint met 0 en 1 en waarbij elk volgende element van de rij steeds de som is van de twee voorgaande elementen: 0, 1, 1, 2, 3, 5, 8, 13, 21, 34, …\n",
    "\n",
    "De rij van Fibonacci getallen wordt soms ook wel de konijnenrij genoemd. Het idee hiervan is dat met deze getallen de voortplantingssnelheid van konijnen wordt weergegeven.\n",
    "\n",
    "De opdracht is om een programma te schrijven dat een bepaald (het Ne) Fibonacci getal berekent. De klassieke manier om dit te doen is:\n",
    "\n",
    "`FiboWaarde(N)\n",
    "w1 := 0\n",
    "w2 := 1\n",
    "i := 1\n",
    "zolang i < N\n",
    "\tw2 := w1+w2\n",
    "\tw1 := w2-w1\n",
    "\ti := i+1\n",
    "FiboWaarde := w1`\n",
    "\n",
    "Het is ook mogelijk om met behulp van een recursieve oplossing te berekenen wat de waarde is van een bepaald Fibonacci getal. Deze oplossing volgt eigenlijk al direct uit de definitie van de Fibonacci getallen: de waarde van het eerste Fibonacci getal is 0, de waarde van het tweede Fibonacci getal is 1 en de waarde van alle overige Fibonacci getallen is de som van de waarden van de voorgaande twee Fibonacci getallen. \n",
    "\n",
    "Hieronder is schematisch weergegeven op welke manier het zesde Fibonacci getal wordt berekend:\n",
    "\n",
    "![Fibonacci](img/Fibonacci.png)\n",
    "\n",
    "Een recursieve oplossing zou er als volgt uit zien:\n",
    "\n",
    "`FiboWaarde(N)\n",
    "Als N <= 2 dan\n",
    "\tFiboWaarde := N-1\n",
    "Anders\n",
    "\tFiboWaarde := FiboWaarde(N-1) + FiboWaarde(N-2)`\n",
    "\n",
    "Let op: deze oplossing ziet er dan wel veel compacter uit, maar het niet recursieve algoritme is veel efficiënter. Kan jij uitleggen waarom dit zo is?\n",
    "\n",
    "\n",
    "## Quicksort\n",
    "...\n",
    "\n",
    "## Torens van Hanoi\n",
    "...\n",
    "\n",
    "## Koch krommen\n",
    "...\n",
    "\n",
    "## Dames op het schaakbord\n",
    "...\n",
    "\n",
    " "
   ]
  },
  {
   "cell_type": "code",
   "execution_count": null,
   "metadata": {},
   "outputs": [],
   "source": []
  }
 ],
 "metadata": {
  "kernelspec": {
   "display_name": "Elm",
   "language": "text",
   "name": "elm"
  },
  "language_info": {
   "codemirror_mode": "elm",
   "file_extension": ".elm",
   "mimetype": "text/x-elm",
   "name": "elm"
  }
 },
 "nbformat": 4,
 "nbformat_minor": 2
}
