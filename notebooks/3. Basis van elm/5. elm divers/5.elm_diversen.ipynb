{
 "cells": [
  {
   "cell_type": "markdown",
   "metadata": {},
   "source": [
    "# Records"
   ]
  },
  {
   "cell_type": "markdown",
   "metadata": {},
   "source": [
    "Een record is een verzameling van zogenaamde `key`/`value` pairs. De `key` is de naam van een eigenschap, de `value` is de waarde. Bekijk dit voorbeeld van een `record` met naam ‘person’: "
   ]
  },
  {
   "cell_type": "code",
   "execution_count": 76,
   "metadata": {},
   "outputs": [
    {
     "data": {
      "text/html": [
       "<code>{ voornaam = &quot;Xavier&quot;, achternaam = &quot;Yolo&quot;, lengteInCm = &quot;186&quot;, geboorteJaar = 2003, favorieteKleur = &quot;Red&quot; }\n",
       "    : { achternaam : String\n",
       "      , favorieteKleur : String\n",
       "      , lengteInCm : String\n",
       "      , voornaam : String\n",
       "      , geboorteJaar : number\n",
       "      }\n",
       "</code>"
      ]
     },
     "metadata": {},
     "output_type": "display_data"
    }
   ],
   "source": [
    "person = { voornaam = \"Xavier\" , achternaam = \"Yolo\" , lengteInCm = \"186\" , geboorteJaar = 2003 , favorieteKleur = \"Red\" }"
   ]
  },
  {
   "cell_type": "code",
   "execution_count": 77,
   "metadata": {},
   "outputs": [
    {
     "data": {
      "text/html": [
       "<code>&quot;Xavier&quot; : String\n",
       "</code>"
      ]
     },
     "metadata": {},
     "output_type": "display_data"
    }
   ],
   "source": [
    "person.voornaam"
   ]
  },
  {
   "cell_type": "code",
   "execution_count": 78,
   "metadata": {},
   "outputs": [
    {
     "data": {
      "text/html": [
       "<code>&quot;186&quot; : String\n",
       "</code>"
      ]
     },
     "metadata": {},
     "output_type": "display_data"
    }
   ],
   "source": [
    "person.lengteInCm"
   ]
  },
  {
   "cell_type": "markdown",
   "metadata": {},
   "source": [
    "Een record is een verzameling van zogenaamde key/value pairs. De key is de naam van een eigenschap, de value is de waarde. Bekijk dit voorbeeld van een record met naam ‘person’:\n",
    "\n",
    "person = {\n",
    "voornaam = “Xavier”, achternaam = “Yolo”, lengteInCm = “186”, geboorteJaar = 2003, favorieteKleur = “Red” }\n",
    "\n",
    "Het opvragen van een eigenschap gaat via de naam van die eigenschap:\n"
   ]
  },
  {
   "cell_type": "code",
   "execution_count": 79,
   "metadata": {},
   "outputs": [
    {
     "data": {
      "text/html": [
       "<code>2003 : number\n",
       "</code>"
      ]
     },
     "metadata": {},
     "output_type": "display_data"
    }
   ],
   "source": [
    "person.geboorteJaar"
   ]
  },
  {
   "cell_type": "markdown",
   "metadata": {},
   "source": [
    "Als je de waarde van een eigenschap wilt aanpassen maak je een nieuw record:"
   ]
  },
  {
   "cell_type": "code",
   "execution_count": 80,
   "metadata": {},
   "outputs": [
    {
     "data": {
      "text/html": [
       "<code>{ voornaam = &quot;Xavier&quot;, achternaam = &quot;Yolo&quot;, lengteInCm = &quot;186&quot;, geboorteJaar = 2005, favorieteKleur = &quot;Blue&quot; }\n",
       "    : { achternaam : String\n",
       "      , lengteInCm : String\n",
       "      , voornaam : String\n",
       "      , favorieteKleur : String\n",
       "      , geboorteJaar : number\n",
       "      }\n",
       "</code>"
      ]
     },
     "metadata": {},
     "output_type": "display_data"
    }
   ],
   "source": [
    "person2 = { person | geboorteJaar = 2005 , favorieteKleur = \"Blue\" }"
   ]
  },
  {
   "cell_type": "markdown",
   "metadata": {},
   "source": [
    "en je kunt de waarden van een record toekennen aan losse variabelen (dit heet Destructuring):"
   ]
  },
  {
   "cell_type": "markdown",
   "metadata": {},
   "source": [
    "In bijvoorbeeld de cheatsheet of de elm-tutorial (zie ‘bronnenlijst.ipynb’) kun je nog meer voorbeelden en mogelijkheden van records vinden."
   ]
  }
 ],
 "metadata": {
  "kernelspec": {
   "display_name": "Elm REPL",
   "language": "elm",
   "name": "elm-repl"
  },
  "language_info": {
   "codemirror_mode": "elm",
   "file_extension": ".elm",
   "mimetype": "text/x-elm",
   "name": "elm"
  }
 },
 "nbformat": 4,
 "nbformat_minor": 2
}
