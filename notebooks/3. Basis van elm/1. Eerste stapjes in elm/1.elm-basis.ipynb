{
 "cells": [
  {
   "cell_type": "markdown",
   "metadata": {},
   "source": [
    "# De basis van elm"
   ]
  },
  {
   "cell_type": "markdown",
   "metadata": {},
   "source": [
    "De code snippets in dit hoofdstuk zijn elm commando's die op de elm command line (de zogenaamde 'elm REPL') uitgevoerd kunnen worden, maar wij zullen de elm commando's door Jupyter laten uitvoeren vanuit dit Jupyter notebook: \n",
    "dat doe je door op 'run' te drukken als je dit notebook in Jupyter open hebt. \n",
    "\n",
    "We kunnen nu 'elm expressies' intypen die dan direct geëvalueerd worden. Om met een simpel voorbeeld te beginnen: typ in het vak hieronder het getal 42 in en druk op 'Run': "
   ]
  },
  {
   "cell_type": "code",
   "execution_count": 1,
   "metadata": {},
   "outputs": [
    {
     "data": {
      "text/html": [
       "<code>42 : number\n",
       "</code>"
      ]
     },
     "metadata": {},
     "output_type": "display_data"
    }
   ],
   "source": [
    "42"
   ]
  },
  {
   "cell_type": "markdown",
   "metadata": {},
   "source": [
    "Na even verschijnt de reactie: \n",
    "42 : number\n",
    "ofwel REPL heeft gezien dat het resultaat 42 is en dat dit een getal (number)\n",
    "is. \n",
    "\n",
    "Je kunt de voorbeelden uit dit hoofdstuk ook in de zogenaamde 'elm REPL' uitvoeren. Vanuit de command line (onder MS-windows of MacOS), typ: 'elm-repl' om de REPL te starten. \n",
    "REPL staat voor ... (google hier eens op). Daar kun je dan een commando intypen en op de enter-toets drukken om het uit te voeren. In dit hoofdstuk heb je dat niet nodig en kun je alles vanuit dit Jupyter-notebook doen. \n",
    "\n",
    "Iets spannender (denk even na of je het antwoord van deze vermeningvuldiging\n",
    "makkelijk zelf zou kunnen berekenen): bereken 42 maal 38"
   ]
  },
  {
   "cell_type": "code",
   "execution_count": 2,
   "metadata": {},
   "outputs": [
    {
     "data": {
      "text/html": [
       "<code>1596 : number\n",
       "</code>"
      ]
     },
     "metadata": {},
     "output_type": "display_data"
    }
   ],
   "source": []
  },
  {
   "cell_type": "markdown",
   "metadata": {},
   "source": [
    "Hee, je kunt het dus als rekenmachine gebruiken... Enfin, je bent waarschijnlijk\n",
    "niet heel erg verbaasd.\n",
    "Inderdaad kun je met +, -, * en / optellen, aftrekken, vermenigvuldigen en\n",
    "delen.\n",
    "Wat denk je dat er uitkomt als je 12 + 3 * 2 berekent?"
   ]
  },
  {
   "cell_type": "code",
   "execution_count": 3,
   "metadata": {},
   "outputs": [
    {
     "data": {
      "text/html": [
       "<code>18 : number\n",
       "</code>"
      ]
     },
     "metadata": {},
     "output_type": "display_data"
    }
   ],
   "source": []
  },
  {
   "cell_type": "markdown",
   "metadata": {},
   "source": [
    "Houdt elm rekening met de volgorde van berekening? Wordt eerst de\n",
    "\\+ of eerst \\* uitgevoerd? Ofwel: is dit gelijk aan `( 12 + 3 ) * 2` of juist aan\n",
    "`12 + ( 3 * 2)` ?"
   ]
  },
  {
   "cell_type": "markdown",
   "metadata": {},
   "source": [
    "Als je zelf de volgorde wil aangeven kun je met behulp van haakjes zelf de volgorde van berekening kiezen: bereken hieronder zowel  12 + ( 3 * 2 )   als   ( 12 + 3 ) * 3"
   ]
  },
  {
   "cell_type": "code",
   "execution_count": 4,
   "metadata": {},
   "outputs": [
    {
     "data": {
      "text/html": [
       "<code>18 : number\n",
       "</code>"
      ]
     },
     "metadata": {},
     "output_type": "display_data"
    }
   ],
   "source": []
  },
  {
   "cell_type": "code",
   "execution_count": 5,
   "metadata": {},
   "outputs": [
    {
     "data": {
      "text/html": [
       "<code>30 : number\n",
       "</code>"
      ]
     },
     "metadata": {},
     "output_type": "display_data"
    }
   ],
   "source": []
  },
  {
   "cell_type": "markdown",
   "metadata": {},
   "source": [
    "Als je een uitkomst wilt bewaren kun je die opslaan in een variabele: "
   ]
  },
  {
   "cell_type": "code",
   "execution_count": 6,
   "metadata": {},
   "outputs": [
    {
     "data": {
      "text/html": [
       "<code>30 : number\n",
       "</code>"
      ]
     },
     "metadata": {},
     "output_type": "display_data"
    }
   ],
   "source": [
    "x = ( 12 +  3 ) * 2"
   ]
  },
  {
   "cell_type": "markdown",
   "metadata": {},
   "source": [
    "Elm Repl vertelt je dat er 30 uitkomt en dat dat een `number` is. Als je echter later probeert die zelfde variabele een andere waarde te geven zal Elm Repl protesteren! Je kunt elke variabele maar 1 maal een waarde geven en die kan nooit meer veranderen. Dit lijkt op wat een variabele in de wiskunde betekent: de waarde van een variabele (bijvoorbeeld `x`) is een vaste waarde die je wilt gaan ontdekken. Bij functioneel programmeren geef je zelf de variabele een waarde. \n",
    "\n",
    "Er zijn echter ook verschillen met wiskunde: De naam van een variabele kan in elm ook uit meerdere letters bestaan: Als je in elm opschrijft: `xy` bedoel je een variabele met de twee-letter lange naam `xy`, terwijl in de wiskunde dan (meestal) bedoeld wordt: '(waarde van) `x` vermenigvuldigd met (waarde van) `y`'. Door variabelen met langere namen te gebruiken wordt de code leesbaarder. \n",
    "\n",
    "Als mijn (rechthoekige) tuin bijvoorbeeld 6 meter lang is en 4 meter breed en ik wil de oppervlakte laten berekenen, dan kan dat op een leesbare manier worden opgeschreven als: \n",
    "\n",
    "lengte = 6\n",
    "breedte = 4\n",
    "oppervlakte = lengte * breedte"
   ]
  },
  {
   "cell_type": "code",
   "execution_count": 4,
   "metadata": {},
   "outputs": [
    {
     "data": {
      "text/html": [
       "<code>6 : number\n",
       "4 : number\n",
       "24 : number\n",
       "</code>"
      ]
     },
     "metadata": {},
     "output_type": "display_data"
    }
   ],
   "source": []
  },
  {
   "cell_type": "markdown",
   "metadata": {},
   "source": [
    "In niet functionele programmeertalen kun je een variabele steeds weer een andere waarde geven: dat kan in Elm dus niet: Na de eerste toekenning van een waarde aan een variabele kan deze niet meer worden gewijzigd, en blijft daarmee constant. \n",
    "\n",
    "Stel ik meet mijn tuin na en nu blijkt dat deze maar 5 meter lang is. Probeer de variabele lengte de waarde 5 te geven: "
   ]
  },
  {
   "cell_type": "code",
   "execution_count": null,
   "metadata": {},
   "outputs": [],
   "source": []
  },
  {
   "cell_type": "markdown",
   "metadata": {},
   "source": [
    "Run eens: "
   ]
  },
  {
   "cell_type": "code",
   "execution_count": 7,
   "metadata": {},
   "outputs": [
    {
     "data": {
      "text/html": [
       "<code>&quot;1596&quot; : String\n",
       "</code>"
      ]
     },
     "metadata": {},
     "output_type": "display_data"
    }
   ],
   "source": [
    "toString(42*38)"
   ]
  },
  {
   "cell_type": "markdown",
   "metadata": {},
   "source": [
    "en vergelijk het resultaat eens met de uitkomst die je eerder kreeg met `42 * 38`. Wat valt je op? \n",
    "Juist: er staat nu `String` achter in plaats van `number`. Dat komt omdat de uitkomst van de vermenigvuldiging in de functie 'toString' wordt gestopt, en die maakt er een string van. Een string is een _ketting_ van _characters_ (zeg maar letters, maar bijvoorbeeld een _spatie_, een _komma_, een punt en een _tab_ tellen dan ook als character, dus het zijn niet alleen maar de letters uit het alfabet). "
   ]
  },
  {
   "cell_type": "markdown",
   "metadata": {},
   "source": [
    "Het woord _functie_ is gevallen. In elm struikel je al heel snel over de functies: bijna alles wordt met functies gedaan. \n",
    "Je kunt bestaande functies aanroepen, maar ook eigen functies definiëren. \n",
    "In het volgende hoofdstuk gaan we verder in op functies. "
   ]
  },
  {
   "cell_type": "code",
   "execution_count": null,
   "metadata": {},
   "outputs": [],
   "source": []
  }
 ],
 "metadata": {
  "kernelspec": {
   "display_name": "Elm REPL",
   "language": "elm",
   "name": "elm-repl"
  },
  "language_info": {
   "codemirror_mode": "elm",
   "file_extension": ".elm",
   "mimetype": "text/x-elm",
   "name": "elm"
  }
 },
 "nbformat": 4,
 "nbformat_minor": 2
}
