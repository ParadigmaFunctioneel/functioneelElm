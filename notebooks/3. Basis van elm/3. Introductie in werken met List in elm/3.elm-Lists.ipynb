{
 "cells": [
  {
   "cell_type": "markdown",
   "metadata": {},
   "source": [
    "# Intro Lists"
   ]
  },
  {
   "cell_type": "markdown",
   "metadata": {},
   "source": [
    "Typ eens in:"
   ]
  },
  {
   "cell_type": "code",
   "execution_count": 239,
   "metadata": {},
   "outputs": [
    {
     "data": {
      "text/html": []
     },
     "metadata": {},
     "output_type": "display_data"
    }
   ],
   "source": [
    "List.range 1 9"
   ]
  },
  {
   "cell_type": "markdown",
   "metadata": {},
   "source": [
    "Hee, hoe komt dat? Blijkbaar wordt er een 'lijstje' (`List`) van getallen opgebouwd."
   ]
  },
  {
   "cell_type": "markdown",
   "metadata": {},
   "source": [
    "# Lijsten creëren"
   ]
  },
  {
   "cell_type": "markdown",
   "metadata": {},
   "source": [
    "Een andere manier om een List te creëren is"
   ]
  },
  {
   "cell_type": "code",
   "execution_count": 189,
   "metadata": {},
   "outputs": [
    {
     "data": {
      "text/html": [
       "<code>[3,5,6,8] : List number\n",
       "</code>"
      ]
     },
     "metadata": {},
     "output_type": "display_data"
    }
   ],
   "source": [
    "[ 3 , 5 , 6 , 8 ]"
   ]
  },
  {
   "cell_type": "markdown",
   "metadata": {},
   "source": [
    "ofwel het simpelweg opsommen wat er in moet komen.\n",
    "Voorbeeld met woorden/strings er in:"
   ]
  },
  {
   "cell_type": "code",
   "execution_count": 190,
   "metadata": {},
   "outputs": [
    {
     "data": {
      "text/html": [
       "<code>[&quot;abra&quot;,&quot;ca&quot;,&quot;dabra&quot;] : List String\n",
       "</code>"
      ]
     },
     "metadata": {},
     "output_type": "display_data"
    }
   ],
   "source": [
    "[ \"abra\" , \"ca\" , \"dabra\" ]"
   ]
  },
  {
   "cell_type": "markdown",
   "metadata": {},
   "source": [
    "Een bijzondere versie hiervan is het aanmaken van de lege List:\n",
    "een List zonder elementen"
   ]
  },
  {
   "cell_type": "code",
   "execution_count": 191,
   "metadata": {},
   "outputs": [
    {
     "data": {
      "text/html": [
       "<code>[] : List a\n",
       "</code>"
      ]
     },
     "metadata": {},
     "output_type": "display_data"
    }
   ],
   "source": [
    "[]"
   ]
  },
  {
   "cell_type": "markdown",
   "metadata": {},
   "source": [
    "Dat lijkt misschien niet zo bijzonder maar een lege lijst is bij het werken met\n",
    "lijsten net zo belangrijk als de getallen 0 en 1 bij optellen en vermenigvuldigen.\n",
    "Ook kun je aan een bestaande List met behulp van :: een element toevoegen:"
   ]
  },
  {
   "cell_type": "code",
   "execution_count": 192,
   "metadata": {},
   "outputs": [
    {
     "data": {
      "text/html": [
       "<code>[42,1,2,3,4,5,6,7,8,9] : List Int\n",
       "</code>"
      ]
     },
     "metadata": {},
     "output_type": "display_data"
    }
   ],
   "source": [
    "42 :: (List.range 1 9)"
   ]
  },
  {
   "cell_type": "markdown",
   "metadata": {},
   "source": [
    "en ook meerdere elementen kan"
   ]
  },
  {
   "cell_type": "code",
   "execution_count": 193,
   "metadata": {},
   "outputs": [
    {
     "data": {
      "text/html": [
       "<code>[83,42,1,2,3,4,5,6,7,8,9] : List Int\n",
       "</code>"
      ]
     },
     "metadata": {},
     "output_type": "display_data"
    }
   ],
   "source": [
    "83 :: 42 :: (List.range 1 9)"
   ]
  },
  {
   "cell_type": "markdown",
   "metadata": {},
   "source": [
    "Zoals je ziet zijn haakjes hier niet nodig. Op deze manier kun je een bestaande\n",
    "List verlengen."
   ]
  },
  {
   "cell_type": "markdown",
   "metadata": {},
   "source": [
    "Om van een List het eerste element te krijgen bestaat de functie 'head': "
   ]
  },
  {
   "cell_type": "code",
   "execution_count": 194,
   "metadata": {
    "scrolled": true
   },
   "outputs": [
    {
     "data": {
      "text/html": [
       "<code>Just 83 : Maybe.Maybe Int\n",
       "</code>"
      ]
     },
     "metadata": {},
     "output_type": "display_data"
    }
   ],
   "source": [
    "List.head (83 :: 42 :: (List.range 1 9))"
   ]
  },
  {
   "cell_type": "markdown",
   "metadata": {},
   "source": [
    "Maybe? Ja, want misschien was de List wel leeg en dan wordt er geen Int teruggegeven. Maybe is het een goed idee zelf op internet nog wat informatie op te zoeken, gebruik bijvoorbeeld de keywords 'elm lang just maybe'. "
   ]
  },
  {
   "cell_type": "code",
   "execution_count": 195,
   "metadata": {},
   "outputs": [
    {
     "data": {
      "text/html": [
       "<code>Just &quot;abra&quot; : Maybe.Maybe String\n",
       "</code>"
      ]
     },
     "metadata": {},
     "output_type": "display_data"
    }
   ],
   "source": [
    "List.head ([ \"abra\" , \"ca\" , \"dabra\" ])"
   ]
  },
  {
   "cell_type": "markdown",
   "metadata": {},
   "source": [
    "Ook is het mogelijk juist allesbehalve het eerste element op te vragen: de 'tail': "
   ]
  },
  {
   "cell_type": "code",
   "execution_count": 196,
   "metadata": {},
   "outputs": [
    {
     "data": {
      "text/html": [
       "<code>Just [42,1,2,3,4,5,6,7,8,9] : Maybe.Maybe (List Int)\n",
       "</code>"
      ]
     },
     "metadata": {},
     "output_type": "display_data"
    }
   ],
   "source": [
    "List.tail (83 :: 42 :: (List.range 1 9))"
   ]
  },
  {
   "cell_type": "code",
   "execution_count": 197,
   "metadata": {
    "scrolled": true
   },
   "outputs": [
    {
     "data": {
      "text/html": [
       "<code>Just [&quot;ca&quot;,&quot;dabra&quot;] : Maybe.Maybe (List String)\n",
       "</code>"
      ]
     },
     "metadata": {},
     "output_type": "display_data"
    }
   ],
   "source": [
    "List.tail ([ \"abra\" , \"ca\" , \"dabra\" ])"
   ]
  },
  {
   "cell_type": "markdown",
   "metadata": {},
   "source": [
    "Als je er even over nadenkt zie je wellicht dat een List in essentie 2 verschillende vormen kan hebben: het is óf een lege List óf het is een element ('head' genaamd) gevolgd door een List (die ook weer leeg kan zijn óf bestaat uit een head en een List (de tail, die ook weer leeg kan zijn óf ... enzovoort)). "
   ]
  },
  {
   "cell_type": "code",
   "execution_count": null,
   "metadata": {},
   "outputs": [],
   "source": []
  },
  {
   "cell_type": "markdown",
   "metadata": {},
   "source": [
    "## En tel er 2 bij op..."
   ]
  },
  {
   "cell_type": "markdown",
   "metadata": {},
   "source": [
    "Het leuke van Lists is dat je er berekeningen op kunt gaan toepassen. Stel\n",
    "we willen bij elk getal in de List het getal 2 optellen. We mappen dan de\n",
    "functie telTweeOpBij op elk getal uit de List:\n",
    "Met mappen wordt bedoeld: Het toepassen van de functie op elk van de items in de lijst. \n",
    "(De functie telTweeOpBij hebben we eerder gezien, maar hier opnieuw):"
   ]
  },
  {
   "cell_type": "code",
   "execution_count": 198,
   "metadata": {},
   "outputs": [
    {
     "data": {
      "text/html": [
       "<code>&lt;function&gt; : number -&gt; number\n",
       "</code>"
      ]
     },
     "metadata": {},
     "output_type": "display_data"
    }
   ],
   "source": [
    "telTweeOpBij x = x + 2"
   ]
  },
  {
   "cell_type": "code",
   "execution_count": 199,
   "metadata": {},
   "outputs": [
    {
     "data": {
      "text/html": [
       "<code>[3,4,5,6,7,8,9,10,11] : List Int\n",
       "</code>"
      ]
     },
     "metadata": {},
     "output_type": "display_data"
    }
   ],
   "source": [
    "List.map telTweeOpBij (List.range 1 9)"
   ]
  },
  {
   "cell_type": "markdown",
   "metadata": {},
   "source": [
    "We hadden in plaats van telTweeOpBij ook kunnen schrijven"
   ]
  },
  {
   "cell_type": "code",
   "execution_count": 233,
   "metadata": {},
   "outputs": [
    {
     "data": {
      "text/html": []
     },
     "metadata": {},
     "output_type": "display_data"
    }
   ],
   "source": [
    "List.map ( \\x -> x + 2 ) (List.range 1 9)"
   ]
  },
  {
   "cell_type": "markdown",
   "metadata": {},
   "source": [
    "waarbij \\x -> x + 2 een anonymous function is zoals we al eerder gezien hebben. "
   ]
  },
  {
   "cell_type": "markdown",
   "metadata": {},
   "source": [
    "Nu is: \n",
    "\n",
    "List.map ( \\x -> x + 2 ) (List.range 1 9)\n",
    "\n",
    "niet bepaald super-leesbaar. Je mag dit in Elm ook anders opschrijven: Neem (List.range\n",
    "1 9) en map op elk element de functie ( x -> x + 2 ). Dit ziet er dan in de Elm Repl uit\n",
    "als:\n",
    "\n",
    "(List.range 1 9) \\\n",
    "  |> List.map ( \\x -> x + 2 )\n",
    "  \n",
    "Op het eind van de regel moet je een backslash (\\) typen om op de volgende regel door te gaan. "
   ]
  },
  {
   "cell_type": "code",
   "execution_count": 236,
   "metadata": {},
   "outputs": [
    {
     "data": {
      "text/html": []
     },
     "metadata": {},
     "output_type": "display_data"
    }
   ],
   "source": [
    "(List.range 1 9) \n",
    "  |> List.map ( \\x -> x + 2 )"
   ]
  },
  {
   "cell_type": "markdown",
   "metadata": {},
   "source": [
    "## List.map functie"
   ]
  },
  {
   "cell_type": "markdown",
   "metadata": {},
   "source": [
    "Met behulp van de map (List.map) kunnen we dus een functie toepassen op\n",
    "elk element van een List."
   ]
  },
  {
   "cell_type": "markdown",
   "metadata": {},
   "source": [
    "List.map eenFunctie eenList"
   ]
  },
  {
   "cell_type": "markdown",
   "metadata": {},
   "source": [
    "De functie eenFunctie wordt toegepast op eenList en het resultaat is een List\n",
    "met evenveel elementen als eenList. Het i-de element van het resultaat is het\n",
    "resutaat van toepassing van functie eenFunctie op de list eenList.\n",
    "Stel ik wil alle kwadraten van de getallen 1 tot en met 30:"
   ]
  },
  {
   "cell_type": "code",
   "execution_count": 206,
   "metadata": {},
   "outputs": [
    {
     "data": {
      "text/html": [
       "<code>[1,4,9,16,25,36,49,64,81,100,121,144,169,196,225,256,289,324,361,400,441,484,529,576,625,676,729,784,841,900]\n",
       "    : List Int\n",
       "</code>"
      ]
     },
     "metadata": {},
     "output_type": "display_data"
    }
   ],
   "source": [
    "List.map ( \\x -> x * x ) ( List.range 1 30 )"
   ]
  },
  {
   "cell_type": "markdown",
   "metadata": {},
   "source": [
    "# List.filter"
   ]
  },
  {
   "cell_type": "markdown",
   "metadata": {},
   "source": [
    "De filter-functie (voluit: ’List.filter’) neemt als input een list en de output is\n",
    "een lijst met (alleen die) elementen uit de input die aan een voorwaarde voldoen.\n",
    "De voorwaarde wordt gesteld door een andere functie die (losgelaten\n",
    "op een element van de list) true of false teruggeeft.\n",
    "\n",
    "Zo geeft de functie ( \\x -> x > 5 ) true terug als de input groter is dan 5 en anders\n",
    "false. Kijken we naar"
   ]
  },
  {
   "cell_type": "code",
   "execution_count": 207,
   "metadata": {},
   "outputs": [
    {
     "data": {
      "text/html": [
       "<code>[6,7,8,9,10,11,12,13,14,15,16,17,18,19,20,21,22,23,24,25,26,27,28,29,30]\n",
       "    : List Int\n",
       "</code>"
      ]
     },
     "metadata": {},
     "output_type": "display_data"
    }
   ],
   "source": [
    "List.filter ( \\x -> x > 5) (List.range 1 30)"
   ]
  },
  {
   "cell_type": "markdown",
   "metadata": {},
   "source": [
    "dan wordt er dus een list opgebouwd uit die elementen uit de range 1 tot en\n",
    "met 30 die groter zijn dan 5."
   ]
  },
  {
   "cell_type": "markdown",
   "metadata": {},
   "source": [
    "## Een uitdaging: Even, Oneven en Deling"
   ]
  },
  {
   "cell_type": "markdown",
   "metadata": {},
   "source": [
    "Een ander voorbeeld: stel we willen alle oneven getallen van 1 tot 1000 opsommen. Een manier om dit te doen is de `list` te nemen van getallen van 1 tot 1000 en dan te filteren of een getal even of oneven is. \n",
    "Om te kijken of een getal even of oneven is delen we het door 2 (deling van gehele getallen, dat wil zeggen geen komma-getallen). "
   ]
  },
  {
   "cell_type": "markdown",
   "metadata": {},
   "source": [
    "In de informatica bestaan er 2 soorten deling: de `gewone deling` zoals je deze meestal tegenkomt (met breuken of kommagetallen; alsof je pizza's verdeelt) en de `integer deling` (alleen gehele getallen; alsof je snoepjes verdeelt): \n",
    "\n",
    "Als je 13 pizza's verdeelt over 3 mensen (zullen wel kleine pizzaatjes zijn...) krijgt ieder 4 (hele) pizza's en ook nog een derde pizza. In Elm heet dit een `floating point division` en je gebruikt er de deelstreep `/` voor: `13 / 3`. \n",
    "\n",
    "Als je daarentegen 13 snoepjes hebt en ze over 3 mensen eerlijk verdeelt krijgt ieder 4 snoepjes en heb je als het goed is nog 1 snoepje over (de `rest`, ook wel `modulo` genoemd). In Elm heet dit een `integer division`. Hoeveel snoepjes elk heeft kun je berekenen met `13 // 3` en hoeveel snoepjes er overblijven bereken je met `13 % 3`. "
   ]
  },
  {
   "cell_type": "markdown",
   "metadata": {},
   "source": [
    "Om te weten of een getal `even` is (deelbaar door `2`) of `oneven` is kun je een `integer deling` door `2` doen en kijken of er `0` uitkomt, in `elm`:\n",
    "\n",
    "`\\x -> ( x % 2 == 0 )`\n",
    "\n",
    "Als we deze functie toepassen op een oneven getal moet er `False` uitkomen en anders `True`:  \n",
    "\n",
    "( \\x -> ( x % 2 == 0 ) ) 15"
   ]
  },
  {
   "cell_type": "code",
   "execution_count": 208,
   "metadata": {
    "scrolled": false
   },
   "outputs": [
    {
     "data": {
      "text/html": [
       "<code>False : Bool\n",
       "</code>"
      ]
     },
     "metadata": {},
     "output_type": "display_data"
    }
   ],
   "source": []
  },
  {
   "cell_type": "markdown",
   "metadata": {},
   "source": [
    "( \\x -> ( x % 2 == 0 ) ) 14"
   ]
  },
  {
   "cell_type": "code",
   "execution_count": 209,
   "metadata": {
    "scrolled": true
   },
   "outputs": [
    {
     "data": {
      "text/html": [
       "<code>True : Bool\n",
       "</code>"
      ]
     },
     "metadata": {},
     "output_type": "display_data"
    }
   ],
   "source": []
  },
  {
   "cell_type": "markdown",
   "metadata": {},
   "source": [
    "Voor het uitproberen van dit stukje code is dit een prima manier om te noteren, maar voor de leesbaarheid (en dus onderhoudbaarheid) van een programma is het goed er een duidelijke naam aan te geven (dus in plaats van de `anonymous functie` gaan we nu een `named function` programmeren):  \n",
    "\n",
    "isEven x = ( x % 2 == 0 )"
   ]
  },
  {
   "cell_type": "code",
   "execution_count": 210,
   "metadata": {},
   "outputs": [
    {
     "data": {
      "text/html": [
       "<code>&lt;function&gt; : Int -&gt; Bool\n",
       "</code>"
      ]
     },
     "metadata": {},
     "output_type": "display_data"
    }
   ],
   "source": []
  },
  {
   "cell_type": "markdown",
   "metadata": {},
   "source": [
    "Waarna we het wat cryptische `( \\x -> ( x % 2 == 0 ) ) 15` van hierboven kunnen versimpelen tot: \n",
    "\n",
    "isEven 15"
   ]
  },
  {
   "cell_type": "code",
   "execution_count": 211,
   "metadata": {},
   "outputs": [
    {
     "data": {
      "text/html": [
       "<code>False : Bool\n",
       "</code>"
      ]
     },
     "metadata": {},
     "output_type": "display_data"
    }
   ],
   "source": []
  },
  {
   "cell_type": "markdown",
   "metadata": {},
   "source": [
    "Om het helemaal af te maken definiëren we ook nog een function om te kijken of een getal `oneven` (`odd` in het Engels) is. Er zijn 2 voor de hand liggende manieren: je zou bijvoorbeeld kunnen kijken of een integer deling door 2 juist 1 oplevert, dus iets als `isOdd x = ( x % 2 == 1 )`, maar eleganter is misschien wel door `function` `isOdd` te definiëren als: \n",
    "\n",
    "isOdd x = not ( isEven x )"
   ]
  },
  {
   "cell_type": "code",
   "execution_count": 212,
   "metadata": {},
   "outputs": [
    {
     "data": {
      "text/html": [
       "<code>&lt;function&gt; : Int -&gt; Bool\n",
       "</code>"
      ]
     },
     "metadata": {},
     "output_type": "display_data"
    }
   ],
   "source": []
  },
  {
   "cell_type": "markdown",
   "metadata": {},
   "source": [
    "ofwel: kijk of het getal `even` is en zet er `not` voor (`True` wordt `False`, `False` wordt `True`). \n",
    "\n",
    "Kijk of 15 een oneven getal is: \n",
    "\n",
    "isOdd 15\n",
    "\n",
    "en 42? \n",
    "en 83?\n",
    "Komt eruit wat je verwacht? "
   ]
  },
  {
   "cell_type": "code",
   "execution_count": 213,
   "metadata": {},
   "outputs": [
    {
     "data": {
      "text/html": [
       "<code>True : Bool\n",
       "</code>"
      ]
     },
     "metadata": {},
     "output_type": "display_data"
    }
   ],
   "source": []
  },
  {
   "cell_type": "code",
   "execution_count": 214,
   "metadata": {},
   "outputs": [
    {
     "data": {
      "text/html": [
       "<code>False : Bool\n",
       "</code>"
      ]
     },
     "metadata": {},
     "output_type": "display_data"
    }
   ],
   "source": []
  },
  {
   "cell_type": "markdown",
   "metadata": {},
   "source": [
    "We wilden alle oneven getallen van 1 tot 1000 opsommen. We laten nu alle getallen van 1 tot 1000 opsommen en gebruiken dan `List.filter` om de even getallen er uit te filteren zodat alleen de oneven getallen overblijven:  \n",
    "\n",
    "List.filter isOdd ( List.range 1 1000 )"
   ]
  },
  {
   "cell_type": "code",
   "execution_count": 215,
   "metadata": {},
   "outputs": [
    {
     "data": {
      "text/html": [
       "<code>[1,3,5,7,9,11,13,15,17,19,21,23,25,27,29,31,33,35,37,39,41,43,45,47,49,51,53,55,57,59,61,63,65,67,69,71,73,75,77,79,81,83,85,87,89,91,93,95,97,99,101,103,105,107,109,111,113,115,117,119,121,123,125,127,129,131,133,135,137,139,141,143,145,147,149,151,153,155,157,159,161,163,165,167,169,171,173,175,177,179,181,183,185,187,189,191,193,195,197,199,201,203,205,207,209,211,213,215,217,219,221,223,225,227,229,231,233,235,237,239,241,243,245,247,249,251,253,255,257,259,261,263,265,267,269,271,273,275,277,279,281,283,285,287,289,291,293,295,297,299,301,303,305,307,309,311,313,315,317,319,321,323,325,327,329,331,333,335,337,339,341,343,345,347,349,351,353,355,357,359,361,363,365,367,369,371,373,375,377,379,381,383,385,387,389,391,393,395,397,399,401,403,405,407,409,411,413,415,417,419,421,423,425,427,429,431,433,435,437,439,441,443,445,447,449,451,453,455,457,459,461,463,465,467,469,471,473,475,477,479,481,483,485,487,489,491,493,495,497,499,501,503,505,507,509,511,513,515,517,519,521,523,525,527,529,531,533,535,537,539,541,543,545,547,549,551,553,555,557,559,561,563,565,567,569,571,573,575,577,579,581,583,585,587,589,591,593,595,597,599,601,603,605,607,609,611,613,615,617,619,621,623,625,627,629,631,633,635,637,639,641,643,645,647,649,651,653,655,657,659,661,663,665,667,669,671,673,675,677,679,681,683,685,687,689,691,693,695,697,699,701,703,705,707,709,711,713,715,717,719,721,723,725,727,729,731,733,735,737,739,741,743,745,747,749,751,753,755,757,759,761,763,765,767,769,771,773,775,777,779,781,783,785,787,789,791,793,795,797,799,801,803,805,807,809,811,813,815,817,819,821,823,825,827,829,831,833,835,837,839,841,843,845,847,849,851,853,855,857,859,861,863,865,867,869,871,873,875,877,879,881,883,885,887,889,891,893,895,897,899,901,903,905,907,909,911,913,915,917,919,921,923,925,927,929,931,933,935,937,939,941,943,945,947,949,951,953,955,957,959,961,963,965,967,969,971,973,975,977,979,981,983,985,987,989,991,993,995,997,999]\n",
       "    : List Int\n",
       "</code>"
      ]
     },
     "metadata": {},
     "output_type": "display_data"
    }
   ],
   "source": []
  },
  {
   "cell_type": "markdown",
   "metadata": {},
   "source": [
    "## Probeer zelf:"
   ]
  },
  {
   "cell_type": "markdown",
   "metadata": {},
   "source": [
    "Hoe krijg ik met behulp van List.map en/of List.filter van de getallen van 1\n",
    "tot en met 60 die kwadraten die groter zijn dan 28?"
   ]
  },
  {
   "cell_type": "code",
   "execution_count": null,
   "metadata": {},
   "outputs": [],
   "source": []
  },
  {
   "cell_type": "markdown",
   "metadata": {},
   "source": [
    "## List.foldl"
   ]
  },
  {
   "cell_type": "markdown",
   "metadata": {},
   "source": [
    "Na de map en filter, die vrij intuïtief zijn als je ze een keer gezien hebt, komen\n",
    "we bij de ’fold’. Deze komt voor als ’foldl’ en ’foldr’, misschien kun je al vermoeden\n",
    "waar ’l’ en ’r’ voor staan?\n",
    "\n",
    "We beginnen met een voorbeeld: Stel we willen weten hoeveel de getallen\n",
    "van 1 tot en met 100 bij elkaar opgeteld zijn, dus"
   ]
  },
  {
   "cell_type": "markdown",
   "metadata": {},
   "source": [
    "1 + 2 + 3 + 4 + 5 + ... + 99 + 100"
   ]
  },
  {
   "cell_type": "markdown",
   "metadata": {},
   "source": [
    "Denk hier eerst een minuutje over na voor je verder leest. Als je wilt kun je het hier uitproberen: "
   ]
  },
  {
   "cell_type": "code",
   "execution_count": null,
   "metadata": {},
   "outputs": [],
   "source": []
  },
  {
   "cell_type": "markdown",
   "metadata": {},
   "source": [
    "We hebben al gezien dat we met (List.range 1 100) (een list met) de\n",
    "getallen 1 tot en met 100 krijgen. Hoe krijgen we alle elementen uit de list\n",
    "opgeteld? We doorlopen de lijst: elk element wordt bij het tussenresultaat\n",
    "opgeteld. Dit lijkt wat op map, omdat op elk element van de list een berekening\n",
    "wordt uitgevoerd, echter wordt de uitvoer/resultaat van de ene berekening gebruikt als invoer voor de volgende berekening. \n",
    "Die berekening wordt geformuleerd als een functie:\n",
    "\n",
    "( \\x -> (\\y -> x+y ) )"
   ]
  },
  {
   "cell_type": "code",
   "execution_count": 216,
   "metadata": {},
   "outputs": [
    {
     "data": {
      "text/html": [
       "<code>&lt;function&gt; : number -&gt; number -&gt; number\n",
       "</code>"
      ]
     },
     "metadata": {},
     "output_type": "display_data"
    }
   ],
   "source": []
  },
  {
   "cell_type": "markdown",
   "metadata": {},
   "source": [
    "Aj, dat ziet er lastig uit...!? Valt mee als we het stapje voor stapje bekijken.\n",
    "Het is een functie die als input een ’x’ verwacht. Dat is het element van de\n",
    "list. Bij de eerste aanroep is dat dus 1, 2e aanroep een 2, 3e aanroep een 3 en\n",
    "zo door. Deze functie geeft een andere functie terug:"
   ]
  },
  {
   "cell_type": "markdown",
   "metadata": {},
   "source": [
    "( \\y -> x+y )"
   ]
  },
  {
   "cell_type": "markdown",
   "metadata": {},
   "source": [
    "een functie die een ’y’ ontvangt (het tussenresultaat, de optelling tot nu\n",
    "toe) en een nieuw tussenresultaat berekent: in dit geval door bij het vorige\n",
    "tussenresultaat de waarde van het huidige list-element op te tellen. Elm\n",
    "zorgt ervoor dat het nieuwe tussenresultaat bij het volgende list-element\n",
    "gebruikt wordt zodat we op het einde van de list alle elementen opgeteld\n",
    "hebben!\n",
    "\n",
    "We zijn er bijna! We moeten namelijk nog aangeven dat we bij het eerste\n",
    "element willen beginnen met tussenresultaat 0!\n",
    "\n",
    "Als we dit samenvoegen krijgen we"
   ]
  },
  {
   "cell_type": "code",
   "execution_count": 217,
   "metadata": {},
   "outputs": [
    {
     "data": {
      "text/html": [
       "<code>5050 : Int\n",
       "</code>"
      ]
     },
     "metadata": {},
     "output_type": "display_data"
    }
   ],
   "source": [
    "List.foldl ( \\x -> (\\y -> x + y )) 0 (List.range 1 100)"
   ]
  },
  {
   "cell_type": "markdown",
   "metadata": {},
   "source": [
    "Je ziet dat ’foldl’ als eerste parameter de ’berekeningsfunctie’ ontvangt, als\n",
    "tweede de initiële waarde en tot slot de list waarop de berekening moet worden\n",
    "toegepast.\n",
    "\n",
    "We kunnen een functie ’telAllesOp’ definiëren die een list accepteert en alle\n",
    "waarden optelt:"
   ]
  },
  {
   "cell_type": "code",
   "execution_count": 218,
   "metadata": {},
   "outputs": [
    {
     "data": {
      "text/html": [
       "<code>&lt;function&gt; : List number -&gt; number\n",
       "</code>"
      ]
     },
     "metadata": {},
     "output_type": "display_data"
    }
   ],
   "source": [
    "telAllesOp = List.foldl ( \\x -> (\\y -> x + y )) 0"
   ]
  },
  {
   "cell_type": "markdown",
   "metadata": {},
   "source": [
    "Het is daarna mogelijk om van een list alle elementen op te tellen met"
   ]
  },
  {
   "cell_type": "code",
   "execution_count": 219,
   "metadata": {},
   "outputs": [
    {
     "data": {
      "text/html": [
       "<code>4650 : number\n",
       "</code>"
      ]
     },
     "metadata": {},
     "output_type": "display_data"
    }
   ],
   "source": [
    "telAllesOp [42,512,4096]"
   ]
  },
  {
   "cell_type": "markdown",
   "metadata": {},
   "source": [
    "## Uitdaging"
   ]
  },
  {
   "cell_type": "markdown",
   "metadata": {},
   "source": [
    "Definieer nu zelf aan de hand van het voorafgaande met behulp van folding\n",
    "een functie die alle elementen van een list kwadrateert en die kwadraten dan bij elkaar optelt. Test deze met de\n",
    "korte lijsten [3,4] en [5,12] (doen die je ergens aan denken? misschien als\n",
    "je goed naar de resultaten kijkt: 25 en 169)."
   ]
  },
  {
   "cell_type": "markdown",
   "metadata": {},
   "source": [
    "## List.foldr"
   ]
  },
  {
   "cell_type": "markdown",
   "metadata": {},
   "source": [
    "Je had wellicht al bedacht dat ’l’ en ’r’ voor links en rechts staan. Als je het in\n",
    "eerdergebruikt voorbeeld ’foldl’ vervangt door ’foldr’:"
   ]
  },
  {
   "cell_type": "code",
   "execution_count": 223,
   "metadata": {},
   "outputs": [
    {
     "data": {
      "text/html": [
       "<code>5050 : Int\n",
       "</code>"
      ]
     },
     "metadata": {},
     "output_type": "display_data"
    }
   ],
   "source": [
    "List.foldr ( \\x -> (\\y -> x + y )) 0 (List.range 1 100)"
   ]
  },
  {
   "cell_type": "markdown",
   "metadata": {},
   "source": [
    "krijg je dan een ander resultaat? Snap je waarom?\n",
    "\n",
    "Vergelijk ook de twee regels:"
   ]
  },
  {
   "cell_type": "code",
   "execution_count": 224,
   "metadata": {
    "scrolled": true
   },
   "outputs": [
    {
     "data": {
      "text/html": [
       "<code>&quot;abcX&quot; : String\n",
       "</code>"
      ]
     },
     "metadata": {},
     "output_type": "display_data"
    }
   ],
   "source": [
    "List.foldr ( \\x -> (\\y -> x ++ y )) \"X\" [ \"a\", \"b\", \"c\" ]"
   ]
  },
  {
   "cell_type": "code",
   "execution_count": 225,
   "metadata": {},
   "outputs": [
    {
     "data": {
      "text/html": [
       "<code>&quot;cbaX&quot; : String\n",
       "</code>"
      ]
     },
     "metadata": {},
     "output_type": "display_data"
    }
   ],
   "source": [
    "List.foldl ( \\x -> (\\y -> x ++ y )) \"X\" [ \"a\", \"b\", \"c\" ]"
   ]
  },
  {
   "cell_type": "markdown",
   "metadata": {},
   "source": [
    "hier is het verschil heel duidelijk te zien."
   ]
  },
  {
   "cell_type": "markdown",
   "metadata": {},
   "source": [
    "## Mogelijke challenge: Binomium"
   ]
  },
  {
   "cell_type": "markdown",
   "metadata": {},
   "source": [
    "Misschien heb je wel eens gehoord van het binomium van Newton:"
   ]
  },
  {
   "attachments": {
    "binomium.png": {
     "image/png": "[encoded data removed]"
    }
   },
   "cell_type": "markdown",
   "metadata": {},
   "source": [
    "![binomium.png](attachment:binomium.png)"
   ]
  },
  {
   "cell_type": "markdown",
   "metadata": {},
   "source": [
    "Het begint met het getal 1, daaronder komen rijen met steeds\n",
    "links én rechts een 1. De andere getallen zijn steeds de 2 getallen er schuin\n",
    "boven opgeteld. Misschien heb je wel eens een knikkerbaan gezien met spijkertjes\n",
    "hetzelfde patroon:"
   ]
  },
  {
   "cell_type": "markdown",
   "metadata": {},
   "source": [
    "Het getal dat in het binomium staat is gelijk aan het aantal ’wegen’ dat naar\n",
    "een spijkertje leidt: een knikker die er van bovenaf in rolt kan steeds links\n",
    "of rechts af. Het is bijvoorbeeld op 4 manieren mogelijk om bij een plek te\n",
    "komen waar een 4 staat.\n",
    "\n",
    "Van _aantal wegen_ is het een redelijk kleine stap naar de 'kans’ dat de knikker\n",
    "op een bepaalde plek terecht komt. De getallen komen op veel plekken terug."
   ]
  }
 ],
 "metadata": {
  "kernelspec": {
   "display_name": "Elm REPL",
   "language": "elm",
   "name": "elm-repl"
  },
  "language_info": {
   "codemirror_mode": "elm",
   "file_extension": ".elm",
   "mimetype": "text/x-elm",
   "name": "elm"
  }
 },
 "nbformat": 4,
 "nbformat_minor": 2
}
