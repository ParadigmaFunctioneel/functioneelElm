{
 "cells": [
  {
   "cell_type": "markdown",
   "metadata": {},
   "source": [
    "# Functiedefinitie in Elm"
   ]
  },
  {
   "cell_type": "markdown",
   "metadata": {},
   "source": [
    "In het vorige hoofdstuk hebben we de functie 'toString' gezien. Hier werd een inputwaarde of parameter in gestopt en er komt als resultaat een outputwaarde (het resultaat) uit. Het is ook mogelijk meerdere waarden mee te geven aan een functie, en er zijn ook functies die helemaal géén input verwachten. Zoals de naam al suggereert zijn functies bij 'functioneel programmeren' erg belangrijk. \n",
    "\n",
    "Eigenlijk kun je in het algemeen een computerprogramma ook zien als iets wat je aanroept, waar je inputwaarden in stopt en waar dan outputwaarden uit komen. \n",
    "Bij web-apps is dit soms nog redelijk duidelijk te herkennen: het begint vaak met het in je browser intypen van een url (internetadres: bijvoorbeeld http://elm-lang.org/ ): deze url (dit is een tekst, en dus in softwaretermen een String) wordt naar een server (een computer ergens op het internet) gestuurd: deze computer krijgt dus een string als input. Er wordt een berekening gedaan ('functie uitgevoerd') en het resultaat (de outputwaarde) is een html-pagina (ook een String), die terug wordt gestuurd naar jouw computer, jouw browser om precies te zijn, die de html-pagina op je scherm toont. \n",
    "\n",
    "Als je er op deze manier over na gaat denken zul je zien dat je veel acties die een computer(programma) uitvoert kunt zien als het uitvoeren/aanroepen van een functie. \n",
    "\n",
    "OK, nog een voorbeeldje dan: je dacht misschien hierboven: ja, maar in dat html-scherm staat een knop en een knop is echt iets anders dan een tekst. Je hebt vast ooit naar de 'sources' van een web-pagina hebt gekeken (je hebt vast al html gehad maar anders ook sowieso nuttig, en elke browser heeft hier wel een optie voor, iets als 'view source') heb je gezien dat een button daar terugkomt in iets wat in essentie lijkt op: &lt;button name=\"buttonPressMe\" action=\"doSomething()\"/&gt;, dus zelfs een button in een html-page is een String. \n",
    "Het komt er eigenlijk op neer dat de browser de String die terugkomt van de server als inputwaarde neemt voor zijn 'functie' ShowPage(receivedHtml) en als output de 'page' geeft die je op scherm ziet. In die getoonde page zitten andere dingen dan tekst, er kunnen buttons, textboxes, pictures, listboxes en nog veel meer zichtbaar zijn, maar de omschrijving van wát er te zien is komt dus uit de html-String."
   ]
  },
  {
   "cell_type": "markdown",
   "metadata": {},
   "source": [
    "Je kunt ook zelf nieuwe functies erbij programmeren. Met bijvoorbeeld: \n",
    "\n",
    "telTweeOpBij x = x + 2\n",
    "(voer dit hieronder uit)"
   ]
  },
  {
   "cell_type": "code",
   "execution_count": 17,
   "metadata": {},
   "outputs": [
    {
     "data": {
      "text/html": [
       "<code>&lt;function&gt; : number -&gt; number\n",
       "</code>"
      ]
     },
     "metadata": {},
     "output_type": "display_data"
    }
   ],
   "source": []
  },
  {
   "cell_type": "markdown",
   "metadata": {},
   "source": [
    "wordt een nieuwe functie telTweeOpBij (deze naam kun je dus zelf kiezen)\n",
    "gedefinieerd. \n",
    "Na deze definitie kun je schrijven: \n",
    "\n",
    "telTweeOpBij 5"
   ]
  },
  {
   "cell_type": "code",
   "execution_count": 7,
   "metadata": {},
   "outputs": [
    {
     "data": {
      "text/html": []
     },
     "metadata": {},
     "output_type": "display_data"
    }
   ],
   "source": []
  },
  {
   "cell_type": "markdown",
   "metadata": {},
   "source": [
    "Komt hier uit wat je verwacht?\n",
    "Onthoud de functie 'telTweeOpBij', we komen hier op terug bij het hoofdstuk over Lists."
   ]
  },
  {
   "cell_type": "markdown",
   "metadata": {},
   "source": [
    "We hadden in plaats van telTweeOpBij ook kunnen schrijven: \n",
    "\n",
    "( \\x -> x + 2 )"
   ]
  },
  {
   "cell_type": "code",
   "execution_count": 19,
   "metadata": {},
   "outputs": [
    {
     "data": {
      "text/html": [
       "<code>&lt;function&gt; : number -&gt; number\n",
       "</code>"
      ]
     },
     "metadata": {},
     "output_type": "display_data"
    }
   ],
   "source": []
  },
  {
   "cell_type": "markdown",
   "metadata": {},
   "source": [
    "waarbij x -> x + 2 eigenlijk wil zeggen: wat er in gaat noemen we x en er\n",
    "komt uit x + 2. Je kunt dit vergelijken met een functie f in de wiskunde: \n",
    "\n",
    "f(x) = x + 2"
   ]
  },
  {
   "cell_type": "markdown",
   "metadata": {},
   "source": [
    "alleen heeft de functie x -> x + 2 geen naam. Bij de definitie van telTweeOp-\n",
    "Bij een stukje terug hadden we de functie wel een naam gegeven (namelijk\n",
    "telTweeOpBij). Herhalen we nu die definitie maar dan met naam f in plaats\n",
    "van telTweeOpBij dan staat er:"
   ]
  },
  {
   "cell_type": "code",
   "execution_count": 21,
   "metadata": {},
   "outputs": [
    {
     "data": {
      "text/html": [
       "<code>&lt;function&gt; : number -&gt; number\n",
       "</code>"
      ]
     },
     "metadata": {},
     "output_type": "display_data"
    }
   ],
   "source": [
    "f x = x + 2"
   ]
  },
  {
   "cell_type": "markdown",
   "metadata": {},
   "source": [
    "Hee, da’s bijna wiskunde!? We hebben nu dus 2 manieren gezien om een\n",
    "functie te definiëren:"
   ]
  },
  {
   "cell_type": "code",
   "execution_count": 22,
   "metadata": {},
   "outputs": [
    {
     "data": {
      "text/html": [
       "<code>&lt;function&gt; : number -&gt; number\n",
       "</code>"
      ]
     },
     "metadata": {},
     "output_type": "display_data"
    }
   ],
   "source": [
    "f x = x + 2"
   ]
  },
  {
   "cell_type": "code",
   "execution_count": 23,
   "metadata": {},
   "outputs": [
    {
     "data": {
      "text/html": [
       "<code>&lt;function&gt; : number -&gt; number\n",
       "</code>"
      ]
     },
     "metadata": {},
     "output_type": "display_data"
    }
   ],
   "source": [
    "\\x -> x + 2"
   ]
  },
  {
   "cell_type": "markdown",
   "metadata": {},
   "source": [
    "De eerste definieert functie f en de tweede heeft geen naam, is anoniem. We\n",
    "noemen die tweede definitie dan ook een anonymous function.\n"
   ]
  },
  {
   "cell_type": "markdown",
   "metadata": {},
   "source": [
    "## Leonardo Pisano nog een keer..."
   ]
  },
  {
   "cell_type": "markdown",
   "metadata": {},
   "source": [
    "Als je niet weet wie Leonardo Pisano is zou ik er eens op googlen, hij is al eerder aan bod gekomen, zij het onder een andere naam... "
   ]
  },
  {
   "cell_type": "markdown",
   "metadata": {},
   "source": [
    "Enfin, de eerder getoonde formule hier op de `Elm`-manier: "
   ]
  },
  {
   "cell_type": "code",
   "execution_count": 33,
   "metadata": {},
   "outputs": [
    {
     "data": {
      "text/html": [
       "<code>elm-repl: &lt;stdin&gt;: hGetChar: hardware fault (Input/output error)\n",
       "</code>"
      ]
     },
     "metadata": {},
     "output_type": "display_data"
    }
   ],
   "source": [
    "fibo n = if n <= 2 then n - 1 else (fibo ( n - 1 ) ) + ( fibo (n-2) )"
   ]
  },
  {
   "cell_type": "markdown",
   "metadata": {},
   "source": [
    "Waarna het zoveelste `fibo`-getal op te vragen is met `fibo zoveel`: \n",
    "dus bijvoorbeeld \n",
    "fibo 1 \n",
    "fibo 5\n",
    "fibo 38"
   ]
  },
  {
   "cell_type": "code",
   "execution_count": 7,
   "metadata": {},
   "outputs": [
    {
     "data": {
      "text/html": [
       "<code>0 : number\n",
       "</code>"
      ]
     },
     "metadata": {},
     "output_type": "display_data"
    }
   ],
   "source": []
  },
  {
   "cell_type": "markdown",
   "metadata": {},
   "source": [
    "# Tweedegraads vergelijking"
   ]
  },
  {
   "cell_type": "markdown",
   "metadata": {},
   "source": [
    "Zoals je bij wiskunde hebt geleerd kun je de zogenaamde tweedegraads vergelijking: \n",
    "\n",
    "a*x^2 + b*x + c = 0"
   ]
  },
  {
   "cell_type": "markdown",
   "metadata": {},
   "source": [
    "oplossen door allereerst de discriminant D = b^2 - 4*a*c uit te rekenen. Als D kleiner\n",
    "dan 0 is is er geen reële oplossing, als D 0 of groter is zijn er 2 oplossingen\n",
    "(die voor D=0 aan elkaar gelijk zijn).\n",
    "\n",
    "Definieer een functie discriminant die gegeven 3 getallen (inderdaad: a, b, c)\n",
    "de discriminant berekent: \n",
    "\n",
    "discriminant a b c = (b * b) - (4 * a * c)"
   ]
  },
  {
   "cell_type": "code",
   "execution_count": 31,
   "metadata": {},
   "outputs": [
    {
     "data": {
      "text/html": [
       "<code>&lt;function&gt; : number -&gt; number -&gt; number -&gt; number\n",
       "</code>"
      ]
     },
     "metadata": {},
     "output_type": "display_data"
    }
   ],
   "source": []
  },
  {
   "cell_type": "markdown",
   "metadata": {},
   "source": [
    "Voor de leesbaarheid is het goed hier de haakjes te zetten!\n",
    "\n",
    "Zou 38*x^2 + 12*x + 6 oplossingen hebben?"
   ]
  },
  {
   "cell_type": "code",
   "execution_count": 32,
   "metadata": {},
   "outputs": [
    {
     "data": {
      "text/html": [
       "<code>-768 : number\n",
       "</code>"
      ]
     },
     "metadata": {},
     "output_type": "display_data"
    }
   ],
   "source": [
    "discriminant 38 12 6"
   ]
  },
  {
   "cell_type": "markdown",
   "metadata": {},
   "source": [
    "geeft het antwoord. Dat wil zeggen als het antwoord groter dan 0 is zijn er 2\n",
    "verschillende oplossingen voor x, als het antwoord 0 is is er 1 oplossing en als\n",
    "het antwoord begint met een - is er geen (reële) oplossing.\n",
    "\n",
    "Merk op dat elm de discriminant ziet als een functie van het type"
   ]
  },
  {
   "cell_type": "markdown",
   "metadata": {},
   "source": [
    "`number -> number -> number -> number`"
   ]
  },
  {
   "cell_type": "markdown",
   "metadata": {},
   "source": [
    "wat wil zeggen dat de functie achtereenvolgens 3 parameters verwacht!\n",
    "Het is dus mogelijk voor tweedegraads vergelijkingen waarbij er géén getal\n",
    "(ofwel een 1) voor de x-kwadraat staat een alternatieve functie te definiëren\n",
    "om de discriminant te berekeningen (noemen de dit de eenheidsdiscriminant)\n",
    "door middel van"
   ]
  },
  {
   "cell_type": "code",
   "execution_count": 18,
   "metadata": {},
   "outputs": [
    {
     "data": {
      "text/html": [
       "<code>&lt;function&gt; : number -&gt; number -&gt; number\n",
       "</code>"
      ]
     },
     "metadata": {},
     "output_type": "display_data"
    }
   ],
   "source": [
    "eenheidsdiscriminant = discriminant 1"
   ]
  },
  {
   "cell_type": "markdown",
   "metadata": {},
   "source": [
    "wat dus eigenlijk betekent dat de eenheidsdiscriminant de normale discriminant\n",
    "is met voor de a vast 1 ingevuld. Dat wil zeggen dat"
   ]
  },
  {
   "cell_type": "code",
   "execution_count": 19,
   "metadata": {},
   "outputs": [
    {
     "data": {
      "text/html": [
       "<code>92 : number\n",
       "</code>"
      ]
     },
     "metadata": {},
     "output_type": "display_data"
    }
   ],
   "source": [
    "discriminant 1 10 2"
   ]
  },
  {
   "cell_type": "markdown",
   "metadata": {},
   "source": [
    "gelijk moet zijn aan"
   ]
  },
  {
   "cell_type": "code",
   "execution_count": 20,
   "metadata": {},
   "outputs": [
    {
     "data": {
      "text/html": [
       "<code>92 : number\n",
       "</code>"
      ]
     },
     "metadata": {},
     "output_type": "display_data"
    }
   ],
   "source": [
    "eenheidsdiscriminant 10 2"
   ]
  },
  {
   "cell_type": "markdown",
   "metadata": {},
   "source": [
    "Is dat ook zo?"
   ]
  },
  {
   "cell_type": "markdown",
   "metadata": {},
   "source": [
    "# Challenge abc\n",
    "Dat was de discriminant. Volgende stap is het construeren van een functie die de oplossingen zelf teruggeeft. Ken je de 'abc-formule' nog? (of misschien ken je hem onder de naam 'het Kanon' of 'de wortelformule') Zo niet, zoek hem op en bedenk hoe je dit aan zou kunnen pakken. "
   ]
  },
  {
   "cell_type": "markdown",
   "metadata": {},
   "source": [
    "Een tip die daarbij zou kunnen helpen is dat een functie in Elm meerdere waarden terug kan geven! We noemen dat dan een tuple: Een functie kan bijvoorbeeld teruggeven ( x1, x2 ) \n",
    "dat zouden dan de 2 oplossingen van de tweedegraadsvergelijking kunnen zijn. \n",
    "Als je op internet hierop gaat zoeken zou je de keywords 'elm tuple' kunnen gebruiken. \n",
    "Probeer dit eens uit te werken. Eventueel zou je een tuple met 3 waarden kunnen teruggeven: eerste waarde geeft aantal oplossingen terug (0, 1, of 2), en de volgende 2 waarden in de tuple zijn dan de zogenaamde x1 en x2 (dus de oplossingen van de vergelijking). "
   ]
  }
 ],
 "metadata": {
  "kernelspec": {
   "display_name": "Elm REPL",
   "language": "elm",
   "name": "elm-repl"
  },
  "language_info": {
   "codemirror_mode": "elm",
   "file_extension": ".elm",
   "mimetype": "text/x-elm",
   "name": "elm"
  }
 },
 "nbformat": 4,
 "nbformat_minor": 2
}
