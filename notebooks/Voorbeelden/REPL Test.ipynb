{
 "cells": [
  {
   "cell_type": "markdown",
   "metadata": {},
   "source": [
    "# ELM REPL Voorbeeld\n",
    "Tijdens het runnen van de eerste instructie in dit notebook wordt er op de achtergrond een sessie opgestart met daarin elm-repl. De uitvoer en fouten worden afgevangen en getoond binnen een html code-element. Alle instructies kunnen worden ingevoerd net als bij elm-repl, met uitzondering van :exit."
   ]
  },
  {
   "cell_type": "code",
   "execution_count": null,
   "metadata": {},
   "outputs": [],
   "source": [
    "2 + 14"
   ]
  },
  {
   "cell_type": "code",
   "execution_count": null,
   "metadata": {},
   "outputs": [],
   "source": [
    "factorial n = \\\n",
    "  if n < 1 then 1 \\\n",
    "           else n * factorial (n-1)"
   ]
  },
  {
   "cell_type": "code",
   "execution_count": null,
   "metadata": {},
   "outputs": [],
   "source": [
    "factorial (6 + 5)"
   ]
  },
  {
   "cell_type": "code",
   "execution_count": null,
   "metadata": {},
   "outputs": [],
   "source": [
    ":exit"
   ]
  },
  {
   "cell_type": "code",
   "execution_count": null,
   "metadata": {},
   "outputs": [],
   "source": [
    ":help"
   ]
  },
  {
   "cell_type": "code",
   "execution_count": null,
   "metadata": {},
   "outputs": [],
   "source": [
    ":reset"
   ]
  },
  {
   "cell_type": "code",
   "execution_count": 1,
   "metadata": {},
   "outputs": [
    {
     "data": {
      "text/html": [
       "<code>2 : number\n",
       "</code>"
      ]
     },
     "metadata": {},
     "output_type": "display_data"
    }
   ],
   "source": [
    "1+1"
   ]
  },
  {
   "cell_type": "code",
   "execution_count": 2,
   "metadata": {},
   "outputs": [
    {
     "data": {
      "text/html": [
       "<code>2.23606797749979 : Float\n",
       "</code>"
      ]
     },
     "metadata": {},
     "output_type": "display_data"
    }
   ],
   "source": [
    "sqrt 5"
   ]
  },
  {
   "cell_type": "code",
   "execution_count": 3,
   "metadata": {},
   "outputs": [
    {
     "data": {
      "text/html": [
       "<code>General usage directions: &lt;https://github.com/elm-lang/elm-repl#elm-repl&gt;\n",
       "Additional commands available from the prompt:\n",
       "\n",
       "  :help\t\t\tList available commands\n",
       "  :flags\t\tManipulate flags sent to elm compiler\n",
       "  :reset\t\tClears all previous imports\n",
       "  :exit\t\t\tExits elm-repl\n",
       "\n",
       "</code>"
      ]
     },
     "metadata": {},
     "output_type": "display_data"
    }
   ],
   "source": [
    ":help"
   ]
  },
  {
   "cell_type": "code",
   "execution_count": 4,
   "metadata": {},
   "outputs": [
    {
     "data": {
      "text/html": [
       "<code>2 : number\n",
       "</code>"
      ]
     },
     "metadata": {},
     "output_type": "display_data"
    }
   ],
   "source": [
    "max 1 2"
   ]
  },
  {
   "cell_type": "code",
   "execution_count": 5,
   "metadata": {},
   "outputs": [
    {
     "data": {
      "text/html": [
       "<code>&lt;function&gt; : number -&gt; number\n",
       "</code>"
      ]
     },
     "metadata": {},
     "output_type": "display_data"
    }
   ],
   "source": [
    "sqr x = x * x"
   ]
  },
  {
   "cell_type": "code",
   "execution_count": 6,
   "metadata": {},
   "outputs": [
    {
     "data": {
      "text/html": [
       "<code>256 : number\n",
       "</code>"
      ]
     },
     "metadata": {},
     "output_type": "display_data"
    }
   ],
   "source": [
    "sqr 16"
   ]
  },
  {
   "cell_type": "code",
   "execution_count": 7,
   "metadata": {},
   "outputs": [
    {
     "data": {
      "text/html": [
       "<code>==================================== ERRORS ====================================\n",
       "\n",
       "-- PARTIAL PATTERN ------------------------------------------- repl-temp-000.elm\n",
       "\n",
       "This pattern does not cover all possible inputs.\n",
       "\n",
       "4| faq 0 = 0\n",
       "       ^\n",
       "You need to account for the following values:\n",
       "\n",
       "    &lt;values besides 0&gt;\n",
       "\n",
       "Switch to a `case` expression to handle all possible patterns.\n",
       "\n",
       "If you are seeing this error for the first time, check out these hints:\n",
       "&lt;https://github.com/elm-lang/elm-compiler/blob/0.18.0/hints/missing-patterns.md&gt;\n",
       "The recommendations about wildcard patterns and `Debug.crash` are important!\n",
       "\n",
       "\n",
       "&lt;function&gt; : number -&gt; number\n",
       "</code>"
      ]
     },
     "metadata": {},
     "output_type": "display_data"
    }
   ],
   "source": [
    "faq 0 = 0\n",
    "faq n = n * faq (n-1)"
   ]
  },
  {
   "cell_type": "code",
   "execution_count": 8,
   "metadata": {},
   "outputs": [
    {
     "data": {
      "text/html": [
       "<code>-- SYNTAX PROBLEM -------------------------------------------- repl-temp-000.elm\n",
       "\n",
       "The = operator is reserved for defining variables. Maybe you want == instead? Or\n",
       "maybe you are defining a variable, but there is whitespace before it?\n",
       "\n",
       "3|   faq n = \n",
       "           ^\n",
       "Maybe &lt;http://elm-lang.org/docs/syntax&gt; can help you figure it out.\n",
       "\n",
       "\n",
       "</code>"
      ]
     },
     "metadata": {},
     "output_type": "display_data"
    }
   ],
   "source": [
    "faq n = \\\n",
    "if n <1 then 1 else n * faq (n-1)"
   ]
  },
  {
   "cell_type": "code",
   "execution_count": 9,
   "metadata": {},
   "outputs": [
    {
     "data": {
      "text/html": [
       "<code>&lt;function&gt; : number -&gt; number1\n",
       "</code>"
      ]
     },
     "metadata": {},
     "output_type": "display_data"
    }
   ],
   "source": [
    "fact n = if n < 1 then 1 else n * fact (n-1)"
   ]
  },
  {
   "cell_type": "code",
   "execution_count": 10,
   "metadata": {},
   "outputs": [
    {
     "data": {
      "text/html": [
       "<code>3628800 : number\n",
       "</code>"
      ]
     },
     "metadata": {},
     "output_type": "display_data"
    }
   ],
   "source": [
    "fact 10"
   ]
  },
  {
   "cell_type": "code",
   "execution_count": 11,
   "metadata": {},
   "outputs": [
    {
     "data": {
      "text/html": [
       "<code>[1,3,5] : List number\n",
       "</code>"
      ]
     },
     "metadata": {},
     "output_type": "display_data"
    }
   ],
   "source": [
    "[1, 3, 5]"
   ]
  },
  {
   "cell_type": "code",
   "execution_count": 12,
   "metadata": {},
   "outputs": [
    {
     "data": {
      "text/html": [
       "<code>-- NAMING ERROR ---------------------------------------------- repl-temp-000.elm\n",
       "\n",
       "Cannot find variable `..`\n",
       "\n",
       "3|   [1..5]\n",
       "      ^^^^\n",
       "\n",
       "\n",
       "\n",
       "</code>"
      ]
     },
     "metadata": {},
     "output_type": "display_data"
    }
   ],
   "source": [
    "[1..5]"
   ]
  },
  {
   "cell_type": "code",
   "execution_count": 13,
   "metadata": {},
   "outputs": [
    {
     "data": {
      "text/html": [
       "<code>-- TYPE MISMATCH --------------------------------------------- repl-temp-000.elm\n",
       "\n",
       "You are giving 2 arguments to something that is not a function!\n",
       "\n",
       "3|        1 2 3]\n",
       "            ^^^\n",
       "Maybe you forgot some parentheses? Or a comma?\n",
       "\n",
       "\n",
       "</code>"
      ]
     },
     "metadata": {},
     "output_type": "display_data"
    }
   ],
   "source": [
    "max [1 2 3]"
   ]
  },
  {
   "cell_type": "code",
   "execution_count": 14,
   "metadata": {},
   "outputs": [
    {
     "data": {
      "text/html": [
       "<code>-- TYPE MISMATCH --------------------------------------------- repl-temp-000.elm\n",
       "\n",
       "You are giving an argument to something that is not a function!\n",
       "\n",
       "3|               4 5 \n",
       "                   ^\n",
       "Maybe you forgot some parentheses? Or a comma?\n",
       "\n",
       "-- TYPE MISMATCH --------------------------------------------- repl-temp-000.elm\n",
       "\n",
       "You are giving 2 arguments to something that is not a function!\n",
       "\n",
       "3|    1 2 3]\n",
       "        ^^^\n",
       "Maybe you forgot some parentheses? Or a comma?\n",
       "\n",
       "\n",
       "</code>"
      ]
     },
     "metadata": {},
     "output_type": "display_data"
    }
   ],
   "source": [
    "[1 2 3] ++ [4 5 ]"
   ]
  },
  {
   "cell_type": "code",
   "execution_count": 15,
   "metadata": {},
   "outputs": [
    {
     "data": {
      "text/html": [
       "<code>-- NAMING ERROR ---------------------------------------------- repl-temp-000.elm\n",
       "\n",
       "Cannot find variable `map`\n",
       "\n",
       "3|   map sqr [1 2 3]\n",
       "     ^^^\n",
       "Maybe you want one of the following?\n",
       "\n",
       "    max\n",
       "    faq\n",
       "    min\n",
       "    tan\n",
       "\n",
       "\n",
       "</code>"
      ]
     },
     "metadata": {},
     "output_type": "display_data"
    }
   ],
   "source": [
    "map sqr [1 2 3]"
   ]
  },
  {
   "cell_type": "code",
   "execution_count": 16,
   "metadata": {},
   "outputs": [
    {
     "data": {
      "text/html": []
     },
     "metadata": {},
     "output_type": "display_data"
    }
   ],
   "source": [
    "import List"
   ]
  },
  {
   "cell_type": "code",
   "execution_count": 17,
   "metadata": {},
   "outputs": [
    {
     "data": {
      "text/html": [
       "<code>-- NAMING ERROR ---------------------------------------------- repl-temp-000.elm\n",
       "\n",
       "Cannot find variable `map`\n",
       "\n",
       "4|   map sqr [1 2 3]\n",
       "     ^^^\n",
       "Maybe you want one of the following?\n",
       "\n",
       "    max\n",
       "    faq\n",
       "    min\n",
       "    tan\n",
       "\n",
       "\n",
       "</code>"
      ]
     },
     "metadata": {},
     "output_type": "display_data"
    }
   ],
   "source": [
    "map sqr [1 2 3]"
   ]
  },
  {
   "cell_type": "code",
   "execution_count": 18,
   "metadata": {},
   "outputs": [
    {
     "data": {
      "text/html": [
       "<code>I cannot find module &#x27;Core&#x27;.\n",
       "\n",
       "Module &#x27;Repl&#x27; is trying to import it.\n",
       "\n",
       "Potential problems could be:\n",
       "  * Misspelled the module name\n",
       "  * Need to add a source directory or new dependency to elm-package.json\n",
       "\n",
       "</code>"
      ]
     },
     "metadata": {},
     "output_type": "display_data"
    }
   ],
   "source": [
    "import Core"
   ]
  },
  {
   "cell_type": "code",
   "execution_count": 19,
   "metadata": {},
   "outputs": [
    {
     "data": {
      "text/html": [
       "<code>-- NAMING ERROR ---------------------------------------------- repl-temp-000.elm\n",
       "\n",
       "Cannot find variable `show`\n",
       "\n",
       "4|   show List\n",
       "     ^^^^\n",
       "\n",
       "\n",
       "-- NAMING ERROR ---------------------------------------------- repl-temp-000.elm\n",
       "\n",
       "Cannot find variable `List`\n",
       "\n",
       "4|   show List\n",
       "          ^^^^\n",
       "Maybe you want one of the following?\n",
       "\n",
       "    Just\n",
       "    Maybe.Just\n",
       "    String.toList\n",
       "    Tuple.first\n",
       "\n",
       "\n",
       "</code>"
      ]
     },
     "metadata": {},
     "output_type": "display_data"
    }
   ],
   "source": [
    "show List\n"
   ]
  },
  {
   "cell_type": "code",
   "execution_count": 20,
   "metadata": {},
   "outputs": [
    {
     "data": {
      "text/html": [
       "<code>-- NAMING ERROR ---------------------------------------------- repl-temp-000.elm\n",
       "\n",
       "Cannot find variable `length`\n",
       "\n",
       "4|   length [1 2 3]\n",
       "     ^^^^^^\n",
       "Maybe you want one of the following?\n",
       "\n",
       "    List.length\n",
       "    String.length\n",
       "\n",
       "\n",
       "</code>"
      ]
     },
     "metadata": {},
     "output_type": "display_data"
    }
   ],
   "source": [
    "length [1 2 3]"
   ]
  },
  {
   "cell_type": "code",
   "execution_count": 21,
   "metadata": {},
   "outputs": [
    {
     "data": {
      "text/html": [
       "<code>==================================== ERRORS ====================================\n",
       "\n",
       "-- TYPE MISMATCH --------------------------------------------- repl-temp-000.elm\n",
       "\n",
       "You are giving an argument to something that is not a function!\n",
       "\n",
       "4|   [1 2 3].length\n",
       "            ^^^^^^^\n",
       "Maybe you forgot some parentheses? Or a comma?\n",
       "\n",
       "-- TYPE MISMATCH --------------------------------------------- repl-temp-000.elm\n",
       "\n",
       "You are giving 2 arguments to something that is not a function!\n",
       "\n",
       "4|    1 2 3]\n",
       "        ^^^\n",
       "Maybe you forgot some parentheses? Or a comma?\n",
       "\n",
       "\n",
       "</code>"
      ]
     },
     "metadata": {},
     "output_type": "display_data"
    }
   ],
   "source": [
    "[1 2 3].length"
   ]
  },
  {
   "cell_type": "code",
   "execution_count": 22,
   "metadata": {},
   "outputs": [
    {
     "data": {
      "text/html": [
       "<code>-- TYPE MISMATCH --------------------------------------------- repl-temp-000.elm\n",
       "\n",
       "You are giving 2 arguments to something that is not a function!\n",
       "\n",
       "4|                1 2 3]\n",
       "                    ^^^\n",
       "Maybe you forgot some parentheses? Or a comma?\n",
       "\n",
       "\n",
       "</code>"
      ]
     },
     "metadata": {},
     "output_type": "display_data"
    }
   ],
   "source": [
    "List.length [1 2 3]"
   ]
  },
  {
   "cell_type": "code",
   "execution_count": 23,
   "metadata": {},
   "outputs": [
    {
     "data": {
      "text/html": [
       "<code>-- TYPE MISMATCH --------------------------------------------- repl-temp-000.elm\n",
       "\n",
       "You are giving 2 arguments to something that is not a function!\n",
       "\n",
       "4|                  1 2 3 \n",
       "                      ^^^\n",
       "Maybe you forgot some parentheses? Or a comma?\n",
       "\n",
       "\n",
       "</code>"
      ]
     },
     "metadata": {},
     "output_type": "display_data"
    }
   ],
   "source": [
    "List.map sqr [ 1 2 3 ]"
   ]
  },
  {
   "cell_type": "code",
   "execution_count": 26,
   "metadata": {},
   "outputs": [
    {
     "data": {
      "text/html": [
       "<code>==================================== ERRORS ====================================\n",
       "\n",
       "-- TYPE MISMATCH --------------------------------------------- repl-temp-000.elm\n",
       "\n",
       "You are giving 2 arguments to something that is not a function!\n",
       "\n",
       "4|    1 2 3]\n",
       "        ^^^\n",
       "Maybe you forgot some parentheses? Or a comma?\n",
       "\n",
       "\n",
       "</code>"
      ]
     },
     "metadata": {},
     "output_type": "display_data"
    }
   ],
   "source": [
    "[1 2 3]"
   ]
  },
  {
   "cell_type": "markdown",
   "metadata": {},
   "source": [
    "List.map sqr [1,2,3]"
   ]
  },
  {
   "cell_type": "code",
   "execution_count": 27,
   "metadata": {},
   "outputs": [
    {
     "data": {
      "text/html": [
       "<code>[1,4,9] : List number\n",
       "</code>"
      ]
     },
     "metadata": {},
     "output_type": "display_data"
    }
   ],
   "source": [
    "List.map sqr [1,2,3]"
   ]
  },
  {
   "cell_type": "code",
   "execution_count": 28,
   "metadata": {},
   "outputs": [
    {
     "data": {
      "text/html": []
     },
     "metadata": {},
     "output_type": "display_data"
    }
   ],
   "source": [
    "import Html"
   ]
  },
  {
   "cell_type": "code",
   "execution_count": 29,
   "metadata": {},
   "outputs": [
    {
     "data": {
      "text/html": []
     },
     "metadata": {},
     "output_type": "display_data"
    }
   ],
   "source": [
    "import Html exposing (beginnerProgram, div, button, text)\n",
    "import Html.Events exposing (onClick)\n",
    "\n",
    "\n",
    "main =\n",
    "  beginnerProgram { model = model, view = view, update = update }\n",
    "  \n",
    "\n",
    "-- MODEL\n",
    "\n",
    "model = 0\n",
    "\n",
    "\n",
    "-- UPDATE\n",
    "\n",
    "type Msg = Increment | Decrement\n",
    "\n",
    "\n",
    "update msg model =\n",
    "  case msg of\n",
    "    Increment ->\n",
    "      model + 1\n",
    "\n",
    "    Decrement ->\n",
    "      model - 1\n",
    "      \n",
    "\n",
    "-- VIEW\n",
    "\n",
    "view model =\n",
    "  div []\n",
    "    [ button [ onClick Decrement ] [ text \"-\" ]\n",
    "    , div [] [ text (toString model) ]\n",
    "    , button [ onClick Increment ] [ text \"+\" ]\n",
    "    ]\n"
   ]
  },
  {
   "cell_type": "code",
   "execution_count": 30,
   "metadata": {},
   "outputs": [
    {
     "data": {
      "text/html": [
       "<code>-- SYNTAX PROBLEM -------------------------------------------- repl-temp-000.elm\n",
       "\n",
       "I ran into something unexpected when parsing your code!\n",
       "\n",
       "3| import Html.events\n",
       "               ^\n",
       "I am looking for one of the following things:\n",
       "\n",
       "    an upper case name\n",
       "\n",
       "\n",
       "</code>"
      ]
     },
     "metadata": {},
     "output_type": "display_data"
    }
   ],
   "source": [
    "import Html.events"
   ]
  },
  {
   "cell_type": "code",
   "execution_count": 39,
   "metadata": {},
   "outputs": [
    {
     "data": {
      "text/html": [
       "<code>6 : number\n",
       "</code>"
      ]
     },
     "metadata": {},
     "output_type": "display_data"
    }
   ],
   "source": [
    "List.foldl ( \\x -> (\\y -> x + y)) 0 (List.range 1 100)"
   ]
  },
  {
   "cell_type": "code",
   "execution_count": null,
   "metadata": {},
   "outputs": [],
   "source": []
  }
 ],
 "metadata": {
  "kernelspec": {
   "display_name": "Elm REPL",
   "language": "elm",
   "name": "elm-repl"
  },
  "language_info": {
   "codemirror_mode": "elm",
   "file_extension": ".elm",
   "mimetype": "text/x-elm",
   "name": "elm"
  }
 },
 "nbformat": 4,
 "nbformat_minor": 2
}
