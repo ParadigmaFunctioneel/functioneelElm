{
 "cells": [
  {
   "cell_type": "code",
   "execution_count": 1,
   "metadata": {},
   "outputs": [
    {
     "data": {
      "text/html": []
     },
     "metadata": {},
     "output_type": "display_data"
    }
   ],
   "source": [
    "import Html exposing (beginnerProgram, div, button, text)\n",
    "import Html.Events exposing (onClick)\n",
    "\n",
    "\n",
    "main =\n",
    "  beginnerProgram { model = model, view = view, update = update }\n",
    "  \n",
    "\n",
    "-- MODEL\n",
    "\n",
    "model = 0\n",
    "\n",
    "\n",
    "-- UPDATE\n",
    "\n",
    "type Msg = Increment | Decrement\n",
    "\n",
    "\n",
    "update msg model =\n",
    "  case msg of\n",
    "    Increment ->\n",
    "      model + 1\n",
    "\n",
    "    Decrement ->\n",
    "      model - 1\n",
    "      \n",
    "\n",
    "-- VIEW\n",
    "\n",
    "view model =\n",
    "  div []\n",
    "    [ button [ onClick Decrement ] [ text \"-\" ]\n",
    "    , div [] [ text (toString model) ]\n",
    "    , button [ onClick Increment ] [ text \"+\" ]\n",
    "    ]\n",
    "-- compile-code"
   ]
  },
  {
   "cell_type": "code",
   "execution_count": 2,
   "metadata": {},
   "outputs": [
    {
     "data": {
      "text/html": [
       "<code>-- NAMING ERROR ---------------------------------------------- repl-temp-000.elm\n",
       "\n",
       "Cannot find variable `main`\n",
       "\n",
       "3|   main\n",
       "     ^^^^\n",
       "Maybe you want one of the following?\n",
       "\n",
       "    min\n",
       "    asin\n",
       "    max\n",
       "    sin\n",
       "\n",
       "\n",
       "</code>"
      ]
     },
     "metadata": {},
     "output_type": "display_data"
    }
   ],
   "source": [
    "main"
   ]
  },
  {
   "cell_type": "code",
   "execution_count": 3,
   "metadata": {},
   "outputs": [
    {
     "data": {
      "text/html": [
       "<code>-- NAMING ERROR ---------------------------------------------- repl-temp-000.elm\n",
       "\n",
       "Cannot find variable `beginnerProgram`\n",
       "\n",
       "3|   beginnerProgram\n",
       "     ^^^^^^^^^^^^^^^\n",
       "\n",
       "\n",
       "\n",
       "</code>"
      ]
     },
     "metadata": {},
     "output_type": "display_data"
    }
   ],
   "source": [
    "beginnerProgram"
   ]
  },
  {
   "cell_type": "code",
   "execution_count": null,
   "metadata": {},
   "outputs": [],
   "source": []
  }
 ],
 "metadata": {
  "kernelspec": {
   "display_name": "Elm REPL",
   "language": "elm",
   "name": "elm-repl"
  },
  "language_info": {
   "codemirror_mode": "elm",
   "file_extension": ".elm",
   "mimetype": "text/x-elm",
   "name": "elm"
  }
 },
 "nbformat": 4,
 "nbformat_minor": 2
}
