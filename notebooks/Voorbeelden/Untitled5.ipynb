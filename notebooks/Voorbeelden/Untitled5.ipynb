{
 "cells": [
  {
   "cell_type": "code",
   "execution_count": 1,
   "metadata": {},
   "outputs": [
    {
     "data": {
      "text/html": []
     },
     "metadata": {},
     "output_type": "display_data"
    }
   ],
   "source": [
    "import Html exposing (div, button, text)"
   ]
  },
  {
   "cell_type": "code",
   "execution_count": 2,
   "metadata": {},
   "outputs": [
    {
     "data": {
      "text/html": []
     },
     "metadata": {},
     "output_type": "display_data"
    }
   ],
   "source": [
    "import Html.Events exposing (onClick)"
   ]
  },
  {
   "cell_type": "code",
   "execution_count": 3,
   "metadata": {},
   "outputs": [
    {
     "data": {
      "text/html": [
       "<code>0 : number\n",
       "</code>"
      ]
     },
     "metadata": {},
     "output_type": "display_data"
    }
   ],
   "source": [
    "model = 0"
   ]
  },
  {
   "cell_type": "code",
   "execution_count": 4,
   "metadata": {},
   "outputs": [
    {
     "data": {
      "text/html": []
     },
     "metadata": {},
     "output_type": "display_data"
    }
   ],
   "source": [
    "type Msg = Increment | Decrement"
   ]
  },
  {
   "cell_type": "code",
   "execution_count": 6,
   "metadata": {},
   "outputs": [
    {
     "data": {
      "text/html": [
       "<code>&lt;function&gt; : Repl.Msg -&gt; number -&gt; number\n",
       "</code>"
      ]
     },
     "metadata": {},
     "output_type": "display_data"
    }
   ],
   "source": [
    "update msg model = \\\n",
    "  case msg of \\\n",
    "    Increment -> \\\n",
    "      model + 1 \\\n",
    "\\\n",
    "    Decrement -> \\\n",
    "      model - 1 "
   ]
  },
  {
   "cell_type": "code",
   "execution_count": 7,
   "metadata": {},
   "outputs": [
    {
     "data": {
      "text/html": [
       "<code>&lt;function&gt; : a -&gt; Html.Html Repl.Msg\n",
       "</code>"
      ]
     },
     "metadata": {},
     "output_type": "display_data"
    }
   ],
   "source": [
    "view model = \\\n",
    "  div [] \\\n",
    "    [ button [ onClick Decrement ] [ text \"-\" ] \\\n",
    "    , div [] [ text (toString model) ] \\\n",
    "    , button [ onClick Increment ] [ text \"+\" ] \\\n",
    "    ]"
   ]
  },
  {
   "cell_type": "code",
   "execution_count": 8,
   "metadata": {},
   "outputs": [
    {
     "data": {
      "text/html": [
       "<code>&lt;function&gt; : Platform.Program Basics.Never number Repl.Msg\n",
       "</code>"
      ]
     },
     "metadata": {},
     "output_type": "display_data"
    }
   ],
   "source": [
    "main = \\\n",
    "  Html.beginnerProgram { model = model, view = view, update = update }"
   ]
  },
  {
   "cell_type": "code",
   "execution_count": 9,
   "metadata": {},
   "outputs": [
    {
     "data": {
      "text/html": [
       "<code>&lt;function&gt; : Platform.Program Basics.Never number Repl.Msg\n",
       "</code>"
      ]
     },
     "metadata": {},
     "output_type": "display_data"
    }
   ],
   "source": [
    "main"
   ]
  },
  {
   "cell_type": "code",
   "execution_count": 10,
   "metadata": {},
   "outputs": [
    {
     "data": {
      "text/html": [
       "<code>{ type = &quot;node&quot;, tag = &quot;div&quot;, facts = {}, children = { 0 = { type = &quot;text&quot;, text = &quot;0&quot; } }, namespace = &lt;internal structure&gt;, descendantsCount = 1 }\n",
       "    : Html.Html msg\n",
       "</code>"
      ]
     },
     "metadata": {},
     "output_type": "display_data"
    }
   ],
   "source": [
    "div [] [ text (toString model)]"
   ]
  },
  {
   "cell_type": "code",
   "execution_count": 11,
   "metadata": {},
   "outputs": [
    {
     "data": {
      "text/html": [
       "<code>{ type = &quot;node&quot;, tag = &quot;div&quot;, facts = {}, children = { 0 = { type = &quot;text&quot;, text = &quot;0&quot; } }, namespace = &lt;internal structure&gt;, descendantsCount = 1 }\n",
       "    : Html.Html msg\n",
       "</code>"
      ]
     },
     "metadata": {},
     "output_type": "display_data"
    }
   ],
   "source": [
    "div [] [ text (toString 0)]\n"
   ]
  },
  {
   "cell_type": "code",
   "execution_count": null,
   "metadata": {},
   "outputs": [],
   "source": []
  }
 ],
 "metadata": {
  "kernelspec": {
   "display_name": "Elm REPL",
   "language": "elm",
   "name": "elm-repl"
  },
  "language_info": {
   "codemirror_mode": "elm",
   "file_extension": ".elm",
   "mimetype": "text/x-elm",
   "name": "elm"
  }
 },
 "nbformat": 4,
 "nbformat_minor": 2
}
